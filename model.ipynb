{
 "cells": [
  {
   "cell_type": "markdown",
   "metadata": {},
   "source": [
    "Life Expectancy Prediction Model using Machine Learning"
   ]
  },
  {
   "cell_type": "markdown",
   "metadata": {},
   "source": [
    "This is a simple machine learning model to predict life expectancy using the WHO dataset taken from kaggle dataset. This model is an supervised learning model. "
   ]
  },
  {
   "cell_type": "markdown",
   "metadata": {},
   "source": [
    "1) Importing the libraries"
   ]
  },
  {
   "cell_type": "code",
   "execution_count": 45,
   "metadata": {},
   "outputs": [],
   "source": [
    "import pandas as pd \n",
    "import numpy as np\n",
    "import math\n",
    "import seaborn as sns\n",
    "import matplotlib.pyplot as plt\n",
    "from sklearn.ensemble import RandomForestClassifier as random_forst"
   ]
  },
  {
   "cell_type": "code",
   "execution_count": 46,
   "metadata": {},
   "outputs": [],
   "source": [
    "from sklearn.linear_model import LinearRegression, Lasso, Ridge\n",
    "from sklearn.model_selection import train_test_split, cross_val_score\n",
    "from sklearn.metrics import mean_squared_error, accuracy_score"
   ]
  },
  {
   "cell_type": "markdown",
   "metadata": {},
   "source": [
    "Creating Data Frame"
   ]
  },
  {
   "cell_type": "code",
   "execution_count": 47,
   "metadata": {},
   "outputs": [],
   "source": [
    "df = pd.read_csv('archive/Life Expectancy Data.csv')\n"
   ]
  },
  {
   "cell_type": "markdown",
   "metadata": {},
   "source": [
    "Data Analysis"
   ]
  },
  {
   "cell_type": "code",
   "execution_count": 48,
   "metadata": {},
   "outputs": [
    {
     "data": {
      "text/plain": [
       "(2938, 22)"
      ]
     },
     "execution_count": 48,
     "metadata": {},
     "output_type": "execute_result"
    }
   ],
   "source": [
    "df.shape"
   ]
  },
  {
   "cell_type": "code",
   "execution_count": 49,
   "metadata": {},
   "outputs": [
    {
     "data": {
      "text/plain": [
       "Index(['Country', 'Year', 'Status', 'Life expectancy ', 'Adult Mortality',\n",
       "       'infant deaths', 'Alcohol', 'percentage expenditure', 'Hepatitis B',\n",
       "       'Measles ', ' BMI ', 'under-five deaths ', 'Polio', 'Total expenditure',\n",
       "       'Diphtheria ', ' HIV/AIDS', 'GDP', 'Population',\n",
       "       ' thinness  1-19 years', ' thinness 5-9 years',\n",
       "       'Income composition of resources', 'Schooling'],\n",
       "      dtype='object')"
      ]
     },
     "execution_count": 49,
     "metadata": {},
     "output_type": "execute_result"
    }
   ],
   "source": [
    "df.columns"
   ]
  },
  {
   "cell_type": "code",
   "execution_count": 50,
   "metadata": {},
   "outputs": [
    {
     "data": {
      "text/html": [
       "<div>\n",
       "<style scoped>\n",
       "    .dataframe tbody tr th:only-of-type {\n",
       "        vertical-align: middle;\n",
       "    }\n",
       "\n",
       "    .dataframe tbody tr th {\n",
       "        vertical-align: top;\n",
       "    }\n",
       "\n",
       "    .dataframe thead th {\n",
       "        text-align: right;\n",
       "    }\n",
       "</style>\n",
       "<table border=\"1\" class=\"dataframe\">\n",
       "  <thead>\n",
       "    <tr style=\"text-align: right;\">\n",
       "      <th></th>\n",
       "      <th>Country</th>\n",
       "      <th>Year</th>\n",
       "      <th>Status</th>\n",
       "      <th>Life expectancy</th>\n",
       "      <th>Adult Mortality</th>\n",
       "      <th>infant deaths</th>\n",
       "      <th>Alcohol</th>\n",
       "      <th>percentage expenditure</th>\n",
       "      <th>Hepatitis B</th>\n",
       "      <th>Measles</th>\n",
       "      <th>...</th>\n",
       "      <th>Polio</th>\n",
       "      <th>Total expenditure</th>\n",
       "      <th>Diphtheria</th>\n",
       "      <th>HIV/AIDS</th>\n",
       "      <th>GDP</th>\n",
       "      <th>Population</th>\n",
       "      <th>thinness  1-19 years</th>\n",
       "      <th>thinness 5-9 years</th>\n",
       "      <th>Income composition of resources</th>\n",
       "      <th>Schooling</th>\n",
       "    </tr>\n",
       "  </thead>\n",
       "  <tbody>\n",
       "    <tr>\n",
       "      <th>0</th>\n",
       "      <td>Afghanistan</td>\n",
       "      <td>2015</td>\n",
       "      <td>Developing</td>\n",
       "      <td>65.0</td>\n",
       "      <td>263.0</td>\n",
       "      <td>62</td>\n",
       "      <td>0.01</td>\n",
       "      <td>71.279624</td>\n",
       "      <td>65.0</td>\n",
       "      <td>1154</td>\n",
       "      <td>...</td>\n",
       "      <td>6.0</td>\n",
       "      <td>8.16</td>\n",
       "      <td>65.0</td>\n",
       "      <td>0.1</td>\n",
       "      <td>584.259210</td>\n",
       "      <td>33736494.0</td>\n",
       "      <td>17.2</td>\n",
       "      <td>17.3</td>\n",
       "      <td>0.479</td>\n",
       "      <td>10.1</td>\n",
       "    </tr>\n",
       "    <tr>\n",
       "      <th>1</th>\n",
       "      <td>Afghanistan</td>\n",
       "      <td>2014</td>\n",
       "      <td>Developing</td>\n",
       "      <td>59.9</td>\n",
       "      <td>271.0</td>\n",
       "      <td>64</td>\n",
       "      <td>0.01</td>\n",
       "      <td>73.523582</td>\n",
       "      <td>62.0</td>\n",
       "      <td>492</td>\n",
       "      <td>...</td>\n",
       "      <td>58.0</td>\n",
       "      <td>8.18</td>\n",
       "      <td>62.0</td>\n",
       "      <td>0.1</td>\n",
       "      <td>612.696514</td>\n",
       "      <td>327582.0</td>\n",
       "      <td>17.5</td>\n",
       "      <td>17.5</td>\n",
       "      <td>0.476</td>\n",
       "      <td>10.0</td>\n",
       "    </tr>\n",
       "    <tr>\n",
       "      <th>2</th>\n",
       "      <td>Afghanistan</td>\n",
       "      <td>2013</td>\n",
       "      <td>Developing</td>\n",
       "      <td>59.9</td>\n",
       "      <td>268.0</td>\n",
       "      <td>66</td>\n",
       "      <td>0.01</td>\n",
       "      <td>73.219243</td>\n",
       "      <td>64.0</td>\n",
       "      <td>430</td>\n",
       "      <td>...</td>\n",
       "      <td>62.0</td>\n",
       "      <td>8.13</td>\n",
       "      <td>64.0</td>\n",
       "      <td>0.1</td>\n",
       "      <td>631.744976</td>\n",
       "      <td>31731688.0</td>\n",
       "      <td>17.7</td>\n",
       "      <td>17.7</td>\n",
       "      <td>0.470</td>\n",
       "      <td>9.9</td>\n",
       "    </tr>\n",
       "    <tr>\n",
       "      <th>3</th>\n",
       "      <td>Afghanistan</td>\n",
       "      <td>2012</td>\n",
       "      <td>Developing</td>\n",
       "      <td>59.5</td>\n",
       "      <td>272.0</td>\n",
       "      <td>69</td>\n",
       "      <td>0.01</td>\n",
       "      <td>78.184215</td>\n",
       "      <td>67.0</td>\n",
       "      <td>2787</td>\n",
       "      <td>...</td>\n",
       "      <td>67.0</td>\n",
       "      <td>8.52</td>\n",
       "      <td>67.0</td>\n",
       "      <td>0.1</td>\n",
       "      <td>669.959000</td>\n",
       "      <td>3696958.0</td>\n",
       "      <td>17.9</td>\n",
       "      <td>18.0</td>\n",
       "      <td>0.463</td>\n",
       "      <td>9.8</td>\n",
       "    </tr>\n",
       "    <tr>\n",
       "      <th>4</th>\n",
       "      <td>Afghanistan</td>\n",
       "      <td>2011</td>\n",
       "      <td>Developing</td>\n",
       "      <td>59.2</td>\n",
       "      <td>275.0</td>\n",
       "      <td>71</td>\n",
       "      <td>0.01</td>\n",
       "      <td>7.097109</td>\n",
       "      <td>68.0</td>\n",
       "      <td>3013</td>\n",
       "      <td>...</td>\n",
       "      <td>68.0</td>\n",
       "      <td>7.87</td>\n",
       "      <td>68.0</td>\n",
       "      <td>0.1</td>\n",
       "      <td>63.537231</td>\n",
       "      <td>2978599.0</td>\n",
       "      <td>18.2</td>\n",
       "      <td>18.2</td>\n",
       "      <td>0.454</td>\n",
       "      <td>9.5</td>\n",
       "    </tr>\n",
       "  </tbody>\n",
       "</table>\n",
       "<p>5 rows × 22 columns</p>\n",
       "</div>"
      ],
      "text/plain": [
       "       Country  Year      Status  Life expectancy   Adult Mortality  \\\n",
       "0  Afghanistan  2015  Developing              65.0            263.0   \n",
       "1  Afghanistan  2014  Developing              59.9            271.0   \n",
       "2  Afghanistan  2013  Developing              59.9            268.0   \n",
       "3  Afghanistan  2012  Developing              59.5            272.0   \n",
       "4  Afghanistan  2011  Developing              59.2            275.0   \n",
       "\n",
       "   infant deaths  Alcohol  percentage expenditure  Hepatitis B  Measles   ...  \\\n",
       "0             62     0.01               71.279624         65.0      1154  ...   \n",
       "1             64     0.01               73.523582         62.0       492  ...   \n",
       "2             66     0.01               73.219243         64.0       430  ...   \n",
       "3             69     0.01               78.184215         67.0      2787  ...   \n",
       "4             71     0.01                7.097109         68.0      3013  ...   \n",
       "\n",
       "   Polio  Total expenditure  Diphtheria    HIV/AIDS         GDP  Population  \\\n",
       "0    6.0               8.16         65.0        0.1  584.259210  33736494.0   \n",
       "1   58.0               8.18         62.0        0.1  612.696514    327582.0   \n",
       "2   62.0               8.13         64.0        0.1  631.744976  31731688.0   \n",
       "3   67.0               8.52         67.0        0.1  669.959000   3696958.0   \n",
       "4   68.0               7.87         68.0        0.1   63.537231   2978599.0   \n",
       "\n",
       "    thinness  1-19 years   thinness 5-9 years  \\\n",
       "0                   17.2                 17.3   \n",
       "1                   17.5                 17.5   \n",
       "2                   17.7                 17.7   \n",
       "3                   17.9                 18.0   \n",
       "4                   18.2                 18.2   \n",
       "\n",
       "   Income composition of resources  Schooling  \n",
       "0                            0.479       10.1  \n",
       "1                            0.476       10.0  \n",
       "2                            0.470        9.9  \n",
       "3                            0.463        9.8  \n",
       "4                            0.454        9.5  \n",
       "\n",
       "[5 rows x 22 columns]"
      ]
     },
     "execution_count": 50,
     "metadata": {},
     "output_type": "execute_result"
    }
   ],
   "source": [
    "df.head()"
   ]
  },
  {
   "cell_type": "code",
   "execution_count": 51,
   "metadata": {},
   "outputs": [
    {
     "data": {
      "text/html": [
       "<div>\n",
       "<style scoped>\n",
       "    .dataframe tbody tr th:only-of-type {\n",
       "        vertical-align: middle;\n",
       "    }\n",
       "\n",
       "    .dataframe tbody tr th {\n",
       "        vertical-align: top;\n",
       "    }\n",
       "\n",
       "    .dataframe thead th {\n",
       "        text-align: right;\n",
       "    }\n",
       "</style>\n",
       "<table border=\"1\" class=\"dataframe\">\n",
       "  <thead>\n",
       "    <tr style=\"text-align: right;\">\n",
       "      <th></th>\n",
       "      <th>Country</th>\n",
       "      <th>Year</th>\n",
       "      <th>Status</th>\n",
       "      <th>Life expectancy</th>\n",
       "      <th>Adult Mortality</th>\n",
       "      <th>infant deaths</th>\n",
       "      <th>Alcohol</th>\n",
       "      <th>percentage expenditure</th>\n",
       "      <th>Hepatitis B</th>\n",
       "      <th>Measles</th>\n",
       "      <th>...</th>\n",
       "      <th>Polio</th>\n",
       "      <th>Total expenditure</th>\n",
       "      <th>Diphtheria</th>\n",
       "      <th>HIV/AIDS</th>\n",
       "      <th>GDP</th>\n",
       "      <th>Population</th>\n",
       "      <th>thinness  1-19 years</th>\n",
       "      <th>thinness 5-9 years</th>\n",
       "      <th>Income composition of resources</th>\n",
       "      <th>Schooling</th>\n",
       "    </tr>\n",
       "  </thead>\n",
       "  <tbody>\n",
       "    <tr>\n",
       "      <th>2933</th>\n",
       "      <td>Zimbabwe</td>\n",
       "      <td>2004</td>\n",
       "      <td>Developing</td>\n",
       "      <td>44.3</td>\n",
       "      <td>723.0</td>\n",
       "      <td>27</td>\n",
       "      <td>4.36</td>\n",
       "      <td>0.0</td>\n",
       "      <td>68.0</td>\n",
       "      <td>31</td>\n",
       "      <td>...</td>\n",
       "      <td>67.0</td>\n",
       "      <td>7.13</td>\n",
       "      <td>65.0</td>\n",
       "      <td>33.6</td>\n",
       "      <td>454.366654</td>\n",
       "      <td>12777511.0</td>\n",
       "      <td>9.4</td>\n",
       "      <td>9.4</td>\n",
       "      <td>0.407</td>\n",
       "      <td>9.2</td>\n",
       "    </tr>\n",
       "    <tr>\n",
       "      <th>2934</th>\n",
       "      <td>Zimbabwe</td>\n",
       "      <td>2003</td>\n",
       "      <td>Developing</td>\n",
       "      <td>44.5</td>\n",
       "      <td>715.0</td>\n",
       "      <td>26</td>\n",
       "      <td>4.06</td>\n",
       "      <td>0.0</td>\n",
       "      <td>7.0</td>\n",
       "      <td>998</td>\n",
       "      <td>...</td>\n",
       "      <td>7.0</td>\n",
       "      <td>6.52</td>\n",
       "      <td>68.0</td>\n",
       "      <td>36.7</td>\n",
       "      <td>453.351155</td>\n",
       "      <td>12633897.0</td>\n",
       "      <td>9.8</td>\n",
       "      <td>9.9</td>\n",
       "      <td>0.418</td>\n",
       "      <td>9.5</td>\n",
       "    </tr>\n",
       "    <tr>\n",
       "      <th>2935</th>\n",
       "      <td>Zimbabwe</td>\n",
       "      <td>2002</td>\n",
       "      <td>Developing</td>\n",
       "      <td>44.8</td>\n",
       "      <td>73.0</td>\n",
       "      <td>25</td>\n",
       "      <td>4.43</td>\n",
       "      <td>0.0</td>\n",
       "      <td>73.0</td>\n",
       "      <td>304</td>\n",
       "      <td>...</td>\n",
       "      <td>73.0</td>\n",
       "      <td>6.53</td>\n",
       "      <td>71.0</td>\n",
       "      <td>39.8</td>\n",
       "      <td>57.348340</td>\n",
       "      <td>125525.0</td>\n",
       "      <td>1.2</td>\n",
       "      <td>1.3</td>\n",
       "      <td>0.427</td>\n",
       "      <td>10.0</td>\n",
       "    </tr>\n",
       "    <tr>\n",
       "      <th>2936</th>\n",
       "      <td>Zimbabwe</td>\n",
       "      <td>2001</td>\n",
       "      <td>Developing</td>\n",
       "      <td>45.3</td>\n",
       "      <td>686.0</td>\n",
       "      <td>25</td>\n",
       "      <td>1.72</td>\n",
       "      <td>0.0</td>\n",
       "      <td>76.0</td>\n",
       "      <td>529</td>\n",
       "      <td>...</td>\n",
       "      <td>76.0</td>\n",
       "      <td>6.16</td>\n",
       "      <td>75.0</td>\n",
       "      <td>42.1</td>\n",
       "      <td>548.587312</td>\n",
       "      <td>12366165.0</td>\n",
       "      <td>1.6</td>\n",
       "      <td>1.7</td>\n",
       "      <td>0.427</td>\n",
       "      <td>9.8</td>\n",
       "    </tr>\n",
       "    <tr>\n",
       "      <th>2937</th>\n",
       "      <td>Zimbabwe</td>\n",
       "      <td>2000</td>\n",
       "      <td>Developing</td>\n",
       "      <td>46.0</td>\n",
       "      <td>665.0</td>\n",
       "      <td>24</td>\n",
       "      <td>1.68</td>\n",
       "      <td>0.0</td>\n",
       "      <td>79.0</td>\n",
       "      <td>1483</td>\n",
       "      <td>...</td>\n",
       "      <td>78.0</td>\n",
       "      <td>7.10</td>\n",
       "      <td>78.0</td>\n",
       "      <td>43.5</td>\n",
       "      <td>547.358878</td>\n",
       "      <td>12222251.0</td>\n",
       "      <td>11.0</td>\n",
       "      <td>11.2</td>\n",
       "      <td>0.434</td>\n",
       "      <td>9.8</td>\n",
       "    </tr>\n",
       "  </tbody>\n",
       "</table>\n",
       "<p>5 rows × 22 columns</p>\n",
       "</div>"
      ],
      "text/plain": [
       "       Country  Year      Status  Life expectancy   Adult Mortality  \\\n",
       "2933  Zimbabwe  2004  Developing              44.3            723.0   \n",
       "2934  Zimbabwe  2003  Developing              44.5            715.0   \n",
       "2935  Zimbabwe  2002  Developing              44.8             73.0   \n",
       "2936  Zimbabwe  2001  Developing              45.3            686.0   \n",
       "2937  Zimbabwe  2000  Developing              46.0            665.0   \n",
       "\n",
       "      infant deaths  Alcohol  percentage expenditure  Hepatitis B  Measles   \\\n",
       "2933             27     4.36                     0.0         68.0        31   \n",
       "2934             26     4.06                     0.0          7.0       998   \n",
       "2935             25     4.43                     0.0         73.0       304   \n",
       "2936             25     1.72                     0.0         76.0       529   \n",
       "2937             24     1.68                     0.0         79.0      1483   \n",
       "\n",
       "      ...  Polio  Total expenditure  Diphtheria    HIV/AIDS         GDP  \\\n",
       "2933  ...   67.0               7.13         65.0       33.6  454.366654   \n",
       "2934  ...    7.0               6.52         68.0       36.7  453.351155   \n",
       "2935  ...   73.0               6.53         71.0       39.8   57.348340   \n",
       "2936  ...   76.0               6.16         75.0       42.1  548.587312   \n",
       "2937  ...   78.0               7.10         78.0       43.5  547.358878   \n",
       "\n",
       "      Population   thinness  1-19 years   thinness 5-9 years  \\\n",
       "2933  12777511.0                    9.4                  9.4   \n",
       "2934  12633897.0                    9.8                  9.9   \n",
       "2935    125525.0                    1.2                  1.3   \n",
       "2936  12366165.0                    1.6                  1.7   \n",
       "2937  12222251.0                   11.0                 11.2   \n",
       "\n",
       "      Income composition of resources  Schooling  \n",
       "2933                            0.407        9.2  \n",
       "2934                            0.418        9.5  \n",
       "2935                            0.427       10.0  \n",
       "2936                            0.427        9.8  \n",
       "2937                            0.434        9.8  \n",
       "\n",
       "[5 rows x 22 columns]"
      ]
     },
     "execution_count": 51,
     "metadata": {},
     "output_type": "execute_result"
    }
   ],
   "source": [
    "df.tail()"
   ]
  },
  {
   "cell_type": "code",
   "execution_count": 52,
   "metadata": {},
   "outputs": [
    {
     "data": {
      "text/html": [
       "<div>\n",
       "<style scoped>\n",
       "    .dataframe tbody tr th:only-of-type {\n",
       "        vertical-align: middle;\n",
       "    }\n",
       "\n",
       "    .dataframe tbody tr th {\n",
       "        vertical-align: top;\n",
       "    }\n",
       "\n",
       "    .dataframe thead th {\n",
       "        text-align: right;\n",
       "    }\n",
       "</style>\n",
       "<table border=\"1\" class=\"dataframe\">\n",
       "  <thead>\n",
       "    <tr style=\"text-align: right;\">\n",
       "      <th></th>\n",
       "      <th>Year</th>\n",
       "      <th>Life expectancy</th>\n",
       "      <th>Adult Mortality</th>\n",
       "      <th>infant deaths</th>\n",
       "      <th>Alcohol</th>\n",
       "      <th>percentage expenditure</th>\n",
       "      <th>Hepatitis B</th>\n",
       "      <th>Measles</th>\n",
       "      <th>BMI</th>\n",
       "      <th>under-five deaths</th>\n",
       "      <th>Polio</th>\n",
       "      <th>Total expenditure</th>\n",
       "      <th>Diphtheria</th>\n",
       "      <th>HIV/AIDS</th>\n",
       "      <th>GDP</th>\n",
       "      <th>Population</th>\n",
       "      <th>thinness  1-19 years</th>\n",
       "      <th>thinness 5-9 years</th>\n",
       "      <th>Income composition of resources</th>\n",
       "      <th>Schooling</th>\n",
       "    </tr>\n",
       "  </thead>\n",
       "  <tbody>\n",
       "    <tr>\n",
       "      <th>count</th>\n",
       "      <td>2938.000000</td>\n",
       "      <td>2928.000000</td>\n",
       "      <td>2928.000000</td>\n",
       "      <td>2938.000000</td>\n",
       "      <td>2744.000000</td>\n",
       "      <td>2938.000000</td>\n",
       "      <td>2385.000000</td>\n",
       "      <td>2938.000000</td>\n",
       "      <td>2904.000000</td>\n",
       "      <td>2938.000000</td>\n",
       "      <td>2919.000000</td>\n",
       "      <td>2712.00000</td>\n",
       "      <td>2919.000000</td>\n",
       "      <td>2938.000000</td>\n",
       "      <td>2490.000000</td>\n",
       "      <td>2.286000e+03</td>\n",
       "      <td>2904.000000</td>\n",
       "      <td>2904.000000</td>\n",
       "      <td>2771.000000</td>\n",
       "      <td>2775.000000</td>\n",
       "    </tr>\n",
       "    <tr>\n",
       "      <th>mean</th>\n",
       "      <td>2007.518720</td>\n",
       "      <td>69.224932</td>\n",
       "      <td>164.796448</td>\n",
       "      <td>30.303948</td>\n",
       "      <td>4.602861</td>\n",
       "      <td>738.251295</td>\n",
       "      <td>80.940461</td>\n",
       "      <td>2419.592240</td>\n",
       "      <td>38.321247</td>\n",
       "      <td>42.035739</td>\n",
       "      <td>82.550188</td>\n",
       "      <td>5.93819</td>\n",
       "      <td>82.324084</td>\n",
       "      <td>1.742103</td>\n",
       "      <td>7483.158469</td>\n",
       "      <td>1.275338e+07</td>\n",
       "      <td>4.839704</td>\n",
       "      <td>4.870317</td>\n",
       "      <td>0.627551</td>\n",
       "      <td>11.992793</td>\n",
       "    </tr>\n",
       "    <tr>\n",
       "      <th>std</th>\n",
       "      <td>4.613841</td>\n",
       "      <td>9.523867</td>\n",
       "      <td>124.292079</td>\n",
       "      <td>117.926501</td>\n",
       "      <td>4.052413</td>\n",
       "      <td>1987.914858</td>\n",
       "      <td>25.070016</td>\n",
       "      <td>11467.272489</td>\n",
       "      <td>20.044034</td>\n",
       "      <td>160.445548</td>\n",
       "      <td>23.428046</td>\n",
       "      <td>2.49832</td>\n",
       "      <td>23.716912</td>\n",
       "      <td>5.077785</td>\n",
       "      <td>14270.169342</td>\n",
       "      <td>6.101210e+07</td>\n",
       "      <td>4.420195</td>\n",
       "      <td>4.508882</td>\n",
       "      <td>0.210904</td>\n",
       "      <td>3.358920</td>\n",
       "    </tr>\n",
       "    <tr>\n",
       "      <th>min</th>\n",
       "      <td>2000.000000</td>\n",
       "      <td>36.300000</td>\n",
       "      <td>1.000000</td>\n",
       "      <td>0.000000</td>\n",
       "      <td>0.010000</td>\n",
       "      <td>0.000000</td>\n",
       "      <td>1.000000</td>\n",
       "      <td>0.000000</td>\n",
       "      <td>1.000000</td>\n",
       "      <td>0.000000</td>\n",
       "      <td>3.000000</td>\n",
       "      <td>0.37000</td>\n",
       "      <td>2.000000</td>\n",
       "      <td>0.100000</td>\n",
       "      <td>1.681350</td>\n",
       "      <td>3.400000e+01</td>\n",
       "      <td>0.100000</td>\n",
       "      <td>0.100000</td>\n",
       "      <td>0.000000</td>\n",
       "      <td>0.000000</td>\n",
       "    </tr>\n",
       "    <tr>\n",
       "      <th>25%</th>\n",
       "      <td>2004.000000</td>\n",
       "      <td>63.100000</td>\n",
       "      <td>74.000000</td>\n",
       "      <td>0.000000</td>\n",
       "      <td>0.877500</td>\n",
       "      <td>4.685343</td>\n",
       "      <td>77.000000</td>\n",
       "      <td>0.000000</td>\n",
       "      <td>19.300000</td>\n",
       "      <td>0.000000</td>\n",
       "      <td>78.000000</td>\n",
       "      <td>4.26000</td>\n",
       "      <td>78.000000</td>\n",
       "      <td>0.100000</td>\n",
       "      <td>463.935626</td>\n",
       "      <td>1.957932e+05</td>\n",
       "      <td>1.600000</td>\n",
       "      <td>1.500000</td>\n",
       "      <td>0.493000</td>\n",
       "      <td>10.100000</td>\n",
       "    </tr>\n",
       "    <tr>\n",
       "      <th>50%</th>\n",
       "      <td>2008.000000</td>\n",
       "      <td>72.100000</td>\n",
       "      <td>144.000000</td>\n",
       "      <td>3.000000</td>\n",
       "      <td>3.755000</td>\n",
       "      <td>64.912906</td>\n",
       "      <td>92.000000</td>\n",
       "      <td>17.000000</td>\n",
       "      <td>43.500000</td>\n",
       "      <td>4.000000</td>\n",
       "      <td>93.000000</td>\n",
       "      <td>5.75500</td>\n",
       "      <td>93.000000</td>\n",
       "      <td>0.100000</td>\n",
       "      <td>1766.947595</td>\n",
       "      <td>1.386542e+06</td>\n",
       "      <td>3.300000</td>\n",
       "      <td>3.300000</td>\n",
       "      <td>0.677000</td>\n",
       "      <td>12.300000</td>\n",
       "    </tr>\n",
       "    <tr>\n",
       "      <th>75%</th>\n",
       "      <td>2012.000000</td>\n",
       "      <td>75.700000</td>\n",
       "      <td>228.000000</td>\n",
       "      <td>22.000000</td>\n",
       "      <td>7.702500</td>\n",
       "      <td>441.534144</td>\n",
       "      <td>97.000000</td>\n",
       "      <td>360.250000</td>\n",
       "      <td>56.200000</td>\n",
       "      <td>28.000000</td>\n",
       "      <td>97.000000</td>\n",
       "      <td>7.49250</td>\n",
       "      <td>97.000000</td>\n",
       "      <td>0.800000</td>\n",
       "      <td>5910.806335</td>\n",
       "      <td>7.420359e+06</td>\n",
       "      <td>7.200000</td>\n",
       "      <td>7.200000</td>\n",
       "      <td>0.779000</td>\n",
       "      <td>14.300000</td>\n",
       "    </tr>\n",
       "    <tr>\n",
       "      <th>max</th>\n",
       "      <td>2015.000000</td>\n",
       "      <td>89.000000</td>\n",
       "      <td>723.000000</td>\n",
       "      <td>1800.000000</td>\n",
       "      <td>17.870000</td>\n",
       "      <td>19479.911610</td>\n",
       "      <td>99.000000</td>\n",
       "      <td>212183.000000</td>\n",
       "      <td>87.300000</td>\n",
       "      <td>2500.000000</td>\n",
       "      <td>99.000000</td>\n",
       "      <td>17.60000</td>\n",
       "      <td>99.000000</td>\n",
       "      <td>50.600000</td>\n",
       "      <td>119172.741800</td>\n",
       "      <td>1.293859e+09</td>\n",
       "      <td>27.700000</td>\n",
       "      <td>28.600000</td>\n",
       "      <td>0.948000</td>\n",
       "      <td>20.700000</td>\n",
       "    </tr>\n",
       "  </tbody>\n",
       "</table>\n",
       "</div>"
      ],
      "text/plain": [
       "              Year  Life expectancy   Adult Mortality  infant deaths  \\\n",
       "count  2938.000000       2928.000000      2928.000000    2938.000000   \n",
       "mean   2007.518720         69.224932       164.796448      30.303948   \n",
       "std       4.613841          9.523867       124.292079     117.926501   \n",
       "min    2000.000000         36.300000         1.000000       0.000000   \n",
       "25%    2004.000000         63.100000        74.000000       0.000000   \n",
       "50%    2008.000000         72.100000       144.000000       3.000000   \n",
       "75%    2012.000000         75.700000       228.000000      22.000000   \n",
       "max    2015.000000         89.000000       723.000000    1800.000000   \n",
       "\n",
       "           Alcohol  percentage expenditure  Hepatitis B       Measles   \\\n",
       "count  2744.000000             2938.000000  2385.000000    2938.000000   \n",
       "mean      4.602861              738.251295    80.940461    2419.592240   \n",
       "std       4.052413             1987.914858    25.070016   11467.272489   \n",
       "min       0.010000                0.000000     1.000000       0.000000   \n",
       "25%       0.877500                4.685343    77.000000       0.000000   \n",
       "50%       3.755000               64.912906    92.000000      17.000000   \n",
       "75%       7.702500              441.534144    97.000000     360.250000   \n",
       "max      17.870000            19479.911610    99.000000  212183.000000   \n",
       "\n",
       "              BMI   under-five deaths         Polio  Total expenditure  \\\n",
       "count  2904.000000         2938.000000  2919.000000         2712.00000   \n",
       "mean     38.321247           42.035739    82.550188            5.93819   \n",
       "std      20.044034          160.445548    23.428046            2.49832   \n",
       "min       1.000000            0.000000     3.000000            0.37000   \n",
       "25%      19.300000            0.000000    78.000000            4.26000   \n",
       "50%      43.500000            4.000000    93.000000            5.75500   \n",
       "75%      56.200000           28.000000    97.000000            7.49250   \n",
       "max      87.300000         2500.000000    99.000000           17.60000   \n",
       "\n",
       "       Diphtheria      HIV/AIDS            GDP    Population  \\\n",
       "count  2919.000000  2938.000000    2490.000000  2.286000e+03   \n",
       "mean     82.324084     1.742103    7483.158469  1.275338e+07   \n",
       "std      23.716912     5.077785   14270.169342  6.101210e+07   \n",
       "min       2.000000     0.100000       1.681350  3.400000e+01   \n",
       "25%      78.000000     0.100000     463.935626  1.957932e+05   \n",
       "50%      93.000000     0.100000    1766.947595  1.386542e+06   \n",
       "75%      97.000000     0.800000    5910.806335  7.420359e+06   \n",
       "max      99.000000    50.600000  119172.741800  1.293859e+09   \n",
       "\n",
       "        thinness  1-19 years   thinness 5-9 years  \\\n",
       "count            2904.000000          2904.000000   \n",
       "mean                4.839704             4.870317   \n",
       "std                 4.420195             4.508882   \n",
       "min                 0.100000             0.100000   \n",
       "25%                 1.600000             1.500000   \n",
       "50%                 3.300000             3.300000   \n",
       "75%                 7.200000             7.200000   \n",
       "max                27.700000            28.600000   \n",
       "\n",
       "       Income composition of resources    Schooling  \n",
       "count                      2771.000000  2775.000000  \n",
       "mean                          0.627551    11.992793  \n",
       "std                           0.210904     3.358920  \n",
       "min                           0.000000     0.000000  \n",
       "25%                           0.493000    10.100000  \n",
       "50%                           0.677000    12.300000  \n",
       "75%                           0.779000    14.300000  \n",
       "max                           0.948000    20.700000  "
      ]
     },
     "execution_count": 52,
     "metadata": {},
     "output_type": "execute_result"
    }
   ],
   "source": [
    "df.describe()"
   ]
  },
  {
   "cell_type": "code",
   "execution_count": 53,
   "metadata": {},
   "outputs": [
    {
     "data": {
      "image/png": "[encoded data removed]",
      "text/plain": [
       "<Figure size 432x288 with 1 Axes>"
      ]
     },
     "metadata": {
      "needs_background": "light"
     },
     "output_type": "display_data"
    }
   ],
   "source": [
    "sns.countplot(x=\"GDP\",data=df)\n",
    "plt.show()"
   ]
  },
  {
   "cell_type": "code",
   "execution_count": 54,
   "metadata": {},
   "outputs": [
    {
     "data": {
      "text/plain": [
       "Country                              0\n",
       "Year                                 0\n",
       "Status                               0\n",
       "Life expectancy                     10\n",
       "Adult Mortality                     10\n",
       "infant deaths                        0\n",
       "Alcohol                            194\n",
       "percentage expenditure               0\n",
       "Hepatitis B                        553\n",
       "Measles                              0\n",
       " BMI                                34\n",
       "under-five deaths                    0\n",
       "Polio                               19\n",
       "Total expenditure                  226\n",
       "Diphtheria                          19\n",
       " HIV/AIDS                            0\n",
       "GDP                                448\n",
       "Population                         652\n",
       " thinness  1-19 years               34\n",
       " thinness 5-9 years                 34\n",
       "Income composition of resources    167\n",
       "Schooling                          163\n",
       "dtype: int64"
      ]
     },
     "execution_count": 54,
     "metadata": {},
     "output_type": "execute_result"
    }
   ],
   "source": [
    "df.isnull().sum(axis=0)"
   ]
  },
  {
   "cell_type": "code",
   "execution_count": 55,
   "metadata": {},
   "outputs": [
    {
     "name": "stdout",
     "output_type": "stream",
     "text": [
      "rows before droping nulls: 2938\n",
      "rows after droping nulls: 1649\n"
     ]
    }
   ],
   "source": [
    "before_drop = df.shape[0]\n",
    "df = df.dropna()\n",
    "after_drop = df.shape[0]\n",
    "print('rows before droping nulls:', before_drop)\n",
    "print('rows after droping nulls:', after_drop)"
   ]
  },
  {
   "cell_type": "code",
   "execution_count": 56,
   "metadata": {},
   "outputs": [
    {
     "data": {
      "text/html": [
       "<div>\n",
       "<style scoped>\n",
       "    .dataframe tbody tr th:only-of-type {\n",
       "        vertical-align: middle;\n",
       "    }\n",
       "\n",
       "    .dataframe tbody tr th {\n",
       "        vertical-align: top;\n",
       "    }\n",
       "\n",
       "    .dataframe thead th {\n",
       "        text-align: right;\n",
       "    }\n",
       "</style>\n",
       "<table border=\"1\" class=\"dataframe\">\n",
       "  <thead>\n",
       "    <tr style=\"text-align: right;\">\n",
       "      <th></th>\n",
       "      <th>Year</th>\n",
       "      <th>Life expectancy</th>\n",
       "      <th>Adult Mortality</th>\n",
       "      <th>infant deaths</th>\n",
       "      <th>Alcohol</th>\n",
       "      <th>percentage expenditure</th>\n",
       "      <th>Hepatitis B</th>\n",
       "      <th>Measles</th>\n",
       "      <th>BMI</th>\n",
       "      <th>under-five deaths</th>\n",
       "      <th>Polio</th>\n",
       "      <th>Total expenditure</th>\n",
       "      <th>Diphtheria</th>\n",
       "      <th>HIV/AIDS</th>\n",
       "      <th>GDP</th>\n",
       "      <th>Population</th>\n",
       "      <th>thinness  1-19 years</th>\n",
       "      <th>thinness 5-9 years</th>\n",
       "      <th>Income composition of resources</th>\n",
       "      <th>Schooling</th>\n",
       "    </tr>\n",
       "  </thead>\n",
       "  <tbody>\n",
       "    <tr>\n",
       "      <th>count</th>\n",
       "      <td>1649.000000</td>\n",
       "      <td>1649.000000</td>\n",
       "      <td>1649.000000</td>\n",
       "      <td>1649.000000</td>\n",
       "      <td>1649.000000</td>\n",
       "      <td>1649.000000</td>\n",
       "      <td>1649.000000</td>\n",
       "      <td>1649.000000</td>\n",
       "      <td>1649.000000</td>\n",
       "      <td>1649.000000</td>\n",
       "      <td>1649.000000</td>\n",
       "      <td>1649.000000</td>\n",
       "      <td>1649.000000</td>\n",
       "      <td>1649.000000</td>\n",
       "      <td>1649.000000</td>\n",
       "      <td>1.649000e+03</td>\n",
       "      <td>1649.000000</td>\n",
       "      <td>1649.000000</td>\n",
       "      <td>1649.000000</td>\n",
       "      <td>1649.000000</td>\n",
       "    </tr>\n",
       "    <tr>\n",
       "      <th>mean</th>\n",
       "      <td>2007.840509</td>\n",
       "      <td>69.302304</td>\n",
       "      <td>168.215282</td>\n",
       "      <td>32.553062</td>\n",
       "      <td>4.533196</td>\n",
       "      <td>698.973558</td>\n",
       "      <td>79.217708</td>\n",
       "      <td>2224.494239</td>\n",
       "      <td>38.128623</td>\n",
       "      <td>44.220133</td>\n",
       "      <td>83.564585</td>\n",
       "      <td>5.955925</td>\n",
       "      <td>84.155246</td>\n",
       "      <td>1.983869</td>\n",
       "      <td>5566.031887</td>\n",
       "      <td>1.465363e+07</td>\n",
       "      <td>4.850637</td>\n",
       "      <td>4.907762</td>\n",
       "      <td>0.631551</td>\n",
       "      <td>12.119891</td>\n",
       "    </tr>\n",
       "    <tr>\n",
       "      <th>std</th>\n",
       "      <td>4.087711</td>\n",
       "      <td>8.796834</td>\n",
       "      <td>125.310417</td>\n",
       "      <td>120.847190</td>\n",
       "      <td>4.029189</td>\n",
       "      <td>1759.229336</td>\n",
       "      <td>25.604664</td>\n",
       "      <td>10085.802019</td>\n",
       "      <td>19.754249</td>\n",
       "      <td>162.897999</td>\n",
       "      <td>22.450557</td>\n",
       "      <td>2.299385</td>\n",
       "      <td>21.579193</td>\n",
       "      <td>6.032360</td>\n",
       "      <td>11475.900117</td>\n",
       "      <td>7.046039e+07</td>\n",
       "      <td>4.599228</td>\n",
       "      <td>4.653757</td>\n",
       "      <td>0.183089</td>\n",
       "      <td>2.795388</td>\n",
       "    </tr>\n",
       "    <tr>\n",
       "      <th>min</th>\n",
       "      <td>2000.000000</td>\n",
       "      <td>44.000000</td>\n",
       "      <td>1.000000</td>\n",
       "      <td>0.000000</td>\n",
       "      <td>0.010000</td>\n",
       "      <td>0.000000</td>\n",
       "      <td>2.000000</td>\n",
       "      <td>0.000000</td>\n",
       "      <td>2.000000</td>\n",
       "      <td>0.000000</td>\n",
       "      <td>3.000000</td>\n",
       "      <td>0.740000</td>\n",
       "      <td>2.000000</td>\n",
       "      <td>0.100000</td>\n",
       "      <td>1.681350</td>\n",
       "      <td>3.400000e+01</td>\n",
       "      <td>0.100000</td>\n",
       "      <td>0.100000</td>\n",
       "      <td>0.000000</td>\n",
       "      <td>4.200000</td>\n",
       "    </tr>\n",
       "    <tr>\n",
       "      <th>25%</th>\n",
       "      <td>2005.000000</td>\n",
       "      <td>64.400000</td>\n",
       "      <td>77.000000</td>\n",
       "      <td>1.000000</td>\n",
       "      <td>0.810000</td>\n",
       "      <td>37.438577</td>\n",
       "      <td>74.000000</td>\n",
       "      <td>0.000000</td>\n",
       "      <td>19.500000</td>\n",
       "      <td>1.000000</td>\n",
       "      <td>81.000000</td>\n",
       "      <td>4.410000</td>\n",
       "      <td>82.000000</td>\n",
       "      <td>0.100000</td>\n",
       "      <td>462.149650</td>\n",
       "      <td>1.918970e+05</td>\n",
       "      <td>1.600000</td>\n",
       "      <td>1.700000</td>\n",
       "      <td>0.509000</td>\n",
       "      <td>10.300000</td>\n",
       "    </tr>\n",
       "    <tr>\n",
       "      <th>50%</th>\n",
       "      <td>2008.000000</td>\n",
       "      <td>71.700000</td>\n",
       "      <td>148.000000</td>\n",
       "      <td>3.000000</td>\n",
       "      <td>3.790000</td>\n",
       "      <td>145.102253</td>\n",
       "      <td>89.000000</td>\n",
       "      <td>15.000000</td>\n",
       "      <td>43.700000</td>\n",
       "      <td>4.000000</td>\n",
       "      <td>93.000000</td>\n",
       "      <td>5.840000</td>\n",
       "      <td>92.000000</td>\n",
       "      <td>0.100000</td>\n",
       "      <td>1592.572182</td>\n",
       "      <td>1.419631e+06</td>\n",
       "      <td>3.000000</td>\n",
       "      <td>3.200000</td>\n",
       "      <td>0.673000</td>\n",
       "      <td>12.300000</td>\n",
       "    </tr>\n",
       "    <tr>\n",
       "      <th>75%</th>\n",
       "      <td>2011.000000</td>\n",
       "      <td>75.000000</td>\n",
       "      <td>227.000000</td>\n",
       "      <td>22.000000</td>\n",
       "      <td>7.340000</td>\n",
       "      <td>509.389994</td>\n",
       "      <td>96.000000</td>\n",
       "      <td>373.000000</td>\n",
       "      <td>55.800000</td>\n",
       "      <td>29.000000</td>\n",
       "      <td>97.000000</td>\n",
       "      <td>7.470000</td>\n",
       "      <td>97.000000</td>\n",
       "      <td>0.700000</td>\n",
       "      <td>4718.512910</td>\n",
       "      <td>7.658972e+06</td>\n",
       "      <td>7.100000</td>\n",
       "      <td>7.100000</td>\n",
       "      <td>0.751000</td>\n",
       "      <td>14.000000</td>\n",
       "    </tr>\n",
       "    <tr>\n",
       "      <th>max</th>\n",
       "      <td>2015.000000</td>\n",
       "      <td>89.000000</td>\n",
       "      <td>723.000000</td>\n",
       "      <td>1600.000000</td>\n",
       "      <td>17.870000</td>\n",
       "      <td>18961.348600</td>\n",
       "      <td>99.000000</td>\n",
       "      <td>131441.000000</td>\n",
       "      <td>77.100000</td>\n",
       "      <td>2100.000000</td>\n",
       "      <td>99.000000</td>\n",
       "      <td>14.390000</td>\n",
       "      <td>99.000000</td>\n",
       "      <td>50.600000</td>\n",
       "      <td>119172.741800</td>\n",
       "      <td>1.293859e+09</td>\n",
       "      <td>27.200000</td>\n",
       "      <td>28.200000</td>\n",
       "      <td>0.936000</td>\n",
       "      <td>20.700000</td>\n",
       "    </tr>\n",
       "  </tbody>\n",
       "</table>\n",
       "</div>"
      ],
      "text/plain": [
       "              Year  Life expectancy   Adult Mortality  infant deaths  \\\n",
       "count  1649.000000       1649.000000      1649.000000    1649.000000   \n",
       "mean   2007.840509         69.302304       168.215282      32.553062   \n",
       "std       4.087711          8.796834       125.310417     120.847190   \n",
       "min    2000.000000         44.000000         1.000000       0.000000   \n",
       "25%    2005.000000         64.400000        77.000000       1.000000   \n",
       "50%    2008.000000         71.700000       148.000000       3.000000   \n",
       "75%    2011.000000         75.000000       227.000000      22.000000   \n",
       "max    2015.000000         89.000000       723.000000    1600.000000   \n",
       "\n",
       "           Alcohol  percentage expenditure  Hepatitis B       Measles   \\\n",
       "count  1649.000000             1649.000000  1649.000000    1649.000000   \n",
       "mean      4.533196              698.973558    79.217708    2224.494239   \n",
       "std       4.029189             1759.229336    25.604664   10085.802019   \n",
       "min       0.010000                0.000000     2.000000       0.000000   \n",
       "25%       0.810000               37.438577    74.000000       0.000000   \n",
       "50%       3.790000              145.102253    89.000000      15.000000   \n",
       "75%       7.340000              509.389994    96.000000     373.000000   \n",
       "max      17.870000            18961.348600    99.000000  131441.000000   \n",
       "\n",
       "              BMI   under-five deaths         Polio  Total expenditure  \\\n",
       "count  1649.000000         1649.000000  1649.000000        1649.000000   \n",
       "mean     38.128623           44.220133    83.564585           5.955925   \n",
       "std      19.754249          162.897999    22.450557           2.299385   \n",
       "min       2.000000            0.000000     3.000000           0.740000   \n",
       "25%      19.500000            1.000000    81.000000           4.410000   \n",
       "50%      43.700000            4.000000    93.000000           5.840000   \n",
       "75%      55.800000           29.000000    97.000000           7.470000   \n",
       "max      77.100000         2100.000000    99.000000          14.390000   \n",
       "\n",
       "       Diphtheria      HIV/AIDS            GDP    Population  \\\n",
       "count  1649.000000  1649.000000    1649.000000  1.649000e+03   \n",
       "mean     84.155246     1.983869    5566.031887  1.465363e+07   \n",
       "std      21.579193     6.032360   11475.900117  7.046039e+07   \n",
       "min       2.000000     0.100000       1.681350  3.400000e+01   \n",
       "25%      82.000000     0.100000     462.149650  1.918970e+05   \n",
       "50%      92.000000     0.100000    1592.572182  1.419631e+06   \n",
       "75%      97.000000     0.700000    4718.512910  7.658972e+06   \n",
       "max      99.000000    50.600000  119172.741800  1.293859e+09   \n",
       "\n",
       "        thinness  1-19 years   thinness 5-9 years  \\\n",
       "count            1649.000000          1649.000000   \n",
       "mean                4.850637             4.907762   \n",
       "std                 4.599228             4.653757   \n",
       "min                 0.100000             0.100000   \n",
       "25%                 1.600000             1.700000   \n",
       "50%                 3.000000             3.200000   \n",
       "75%                 7.100000             7.100000   \n",
       "max                27.200000            28.200000   \n",
       "\n",
       "       Income composition of resources    Schooling  \n",
       "count                      1649.000000  1649.000000  \n",
       "mean                          0.631551    12.119891  \n",
       "std                           0.183089     2.795388  \n",
       "min                           0.000000     4.200000  \n",
       "25%                           0.509000    10.300000  \n",
       "50%                           0.673000    12.300000  \n",
       "75%                           0.751000    14.000000  \n",
       "max                           0.936000    20.700000  "
      ]
     },
     "execution_count": 56,
     "metadata": {},
     "output_type": "execute_result"
    }
   ],
   "source": [
    "df.describe()"
   ]
  },
  {
   "cell_type": "code",
   "execution_count": 57,
   "metadata": {},
   "outputs": [
    {
     "data": {
      "text/html": [
       "<div>\n",
       "<style scoped>\n",
       "    .dataframe tbody tr th:only-of-type {\n",
       "        vertical-align: middle;\n",
       "    }\n",
       "\n",
       "    .dataframe tbody tr th {\n",
       "        vertical-align: top;\n",
       "    }\n",
       "\n",
       "    .dataframe thead th {\n",
       "        text-align: right;\n",
       "    }\n",
       "</style>\n",
       "<table border=\"1\" class=\"dataframe\">\n",
       "  <thead>\n",
       "    <tr style=\"text-align: right;\">\n",
       "      <th></th>\n",
       "      <th>count</th>\n",
       "      <th>mean</th>\n",
       "      <th>std</th>\n",
       "      <th>min</th>\n",
       "      <th>25%</th>\n",
       "      <th>50%</th>\n",
       "      <th>75%</th>\n",
       "      <th>max</th>\n",
       "    </tr>\n",
       "  </thead>\n",
       "  <tbody>\n",
       "    <tr>\n",
       "      <th>Year</th>\n",
       "      <td>1649.0</td>\n",
       "      <td>2.007841e+03</td>\n",
       "      <td>4.087711e+00</td>\n",
       "      <td>2000.00000</td>\n",
       "      <td>2005.000000</td>\n",
       "      <td>2.008000e+03</td>\n",
       "      <td>2.011000e+03</td>\n",
       "      <td>2.015000e+03</td>\n",
       "    </tr>\n",
       "    <tr>\n",
       "      <th>Life expectancy</th>\n",
       "      <td>1649.0</td>\n",
       "      <td>6.930230e+01</td>\n",
       "      <td>8.796834e+00</td>\n",
       "      <td>44.00000</td>\n",
       "      <td>64.400000</td>\n",
       "      <td>7.170000e+01</td>\n",
       "      <td>7.500000e+01</td>\n",
       "      <td>8.900000e+01</td>\n",
       "    </tr>\n",
       "    <tr>\n",
       "      <th>Adult Mortality</th>\n",
       "      <td>1649.0</td>\n",
       "      <td>1.682153e+02</td>\n",
       "      <td>1.253104e+02</td>\n",
       "      <td>1.00000</td>\n",
       "      <td>77.000000</td>\n",
       "      <td>1.480000e+02</td>\n",
       "      <td>2.270000e+02</td>\n",
       "      <td>7.230000e+02</td>\n",
       "    </tr>\n",
       "    <tr>\n",
       "      <th>infant deaths</th>\n",
       "      <td>1649.0</td>\n",
       "      <td>3.255306e+01</td>\n",
       "      <td>1.208472e+02</td>\n",
       "      <td>0.00000</td>\n",
       "      <td>1.000000</td>\n",
       "      <td>3.000000e+00</td>\n",
       "      <td>2.200000e+01</td>\n",
       "      <td>1.600000e+03</td>\n",
       "    </tr>\n",
       "    <tr>\n",
       "      <th>Alcohol</th>\n",
       "      <td>1649.0</td>\n",
       "      <td>4.533196e+00</td>\n",
       "      <td>4.029189e+00</td>\n",
       "      <td>0.01000</td>\n",
       "      <td>0.810000</td>\n",
       "      <td>3.790000e+00</td>\n",
       "      <td>7.340000e+00</td>\n",
       "      <td>1.787000e+01</td>\n",
       "    </tr>\n",
       "    <tr>\n",
       "      <th>percentage expenditure</th>\n",
       "      <td>1649.0</td>\n",
       "      <td>6.989736e+02</td>\n",
       "      <td>1.759229e+03</td>\n",
       "      <td>0.00000</td>\n",
       "      <td>37.438577</td>\n",
       "      <td>1.451023e+02</td>\n",
       "      <td>5.093900e+02</td>\n",
       "      <td>1.896135e+04</td>\n",
       "    </tr>\n",
       "    <tr>\n",
       "      <th>Hepatitis B</th>\n",
       "      <td>1649.0</td>\n",
       "      <td>7.921771e+01</td>\n",
       "      <td>2.560466e+01</td>\n",
       "      <td>2.00000</td>\n",
       "      <td>74.000000</td>\n",
       "      <td>8.900000e+01</td>\n",
       "      <td>9.600000e+01</td>\n",
       "      <td>9.900000e+01</td>\n",
       "    </tr>\n",
       "    <tr>\n",
       "      <th>Measles</th>\n",
       "      <td>1649.0</td>\n",
       "      <td>2.224494e+03</td>\n",
       "      <td>1.008580e+04</td>\n",
       "      <td>0.00000</td>\n",
       "      <td>0.000000</td>\n",
       "      <td>1.500000e+01</td>\n",
       "      <td>3.730000e+02</td>\n",
       "      <td>1.314410e+05</td>\n",
       "    </tr>\n",
       "    <tr>\n",
       "      <th>BMI</th>\n",
       "      <td>1649.0</td>\n",
       "      <td>3.812862e+01</td>\n",
       "      <td>1.975425e+01</td>\n",
       "      <td>2.00000</td>\n",
       "      <td>19.500000</td>\n",
       "      <td>4.370000e+01</td>\n",
       "      <td>5.580000e+01</td>\n",
       "      <td>7.710000e+01</td>\n",
       "    </tr>\n",
       "    <tr>\n",
       "      <th>under-five deaths</th>\n",
       "      <td>1649.0</td>\n",
       "      <td>4.422013e+01</td>\n",
       "      <td>1.628980e+02</td>\n",
       "      <td>0.00000</td>\n",
       "      <td>1.000000</td>\n",
       "      <td>4.000000e+00</td>\n",
       "      <td>2.900000e+01</td>\n",
       "      <td>2.100000e+03</td>\n",
       "    </tr>\n",
       "    <tr>\n",
       "      <th>Polio</th>\n",
       "      <td>1649.0</td>\n",
       "      <td>8.356458e+01</td>\n",
       "      <td>2.245056e+01</td>\n",
       "      <td>3.00000</td>\n",
       "      <td>81.000000</td>\n",
       "      <td>9.300000e+01</td>\n",
       "      <td>9.700000e+01</td>\n",
       "      <td>9.900000e+01</td>\n",
       "    </tr>\n",
       "    <tr>\n",
       "      <th>Total expenditure</th>\n",
       "      <td>1649.0</td>\n",
       "      <td>5.955925e+00</td>\n",
       "      <td>2.299385e+00</td>\n",
       "      <td>0.74000</td>\n",
       "      <td>4.410000</td>\n",
       "      <td>5.840000e+00</td>\n",
       "      <td>7.470000e+00</td>\n",
       "      <td>1.439000e+01</td>\n",
       "    </tr>\n",
       "    <tr>\n",
       "      <th>Diphtheria</th>\n",
       "      <td>1649.0</td>\n",
       "      <td>8.415525e+01</td>\n",
       "      <td>2.157919e+01</td>\n",
       "      <td>2.00000</td>\n",
       "      <td>82.000000</td>\n",
       "      <td>9.200000e+01</td>\n",
       "      <td>9.700000e+01</td>\n",
       "      <td>9.900000e+01</td>\n",
       "    </tr>\n",
       "    <tr>\n",
       "      <th>HIV/AIDS</th>\n",
       "      <td>1649.0</td>\n",
       "      <td>1.983869e+00</td>\n",
       "      <td>6.032360e+00</td>\n",
       "      <td>0.10000</td>\n",
       "      <td>0.100000</td>\n",
       "      <td>1.000000e-01</td>\n",
       "      <td>7.000000e-01</td>\n",
       "      <td>5.060000e+01</td>\n",
       "    </tr>\n",
       "    <tr>\n",
       "      <th>GDP</th>\n",
       "      <td>1649.0</td>\n",
       "      <td>5.566032e+03</td>\n",
       "      <td>1.147590e+04</td>\n",
       "      <td>1.68135</td>\n",
       "      <td>462.149650</td>\n",
       "      <td>1.592572e+03</td>\n",
       "      <td>4.718513e+03</td>\n",
       "      <td>1.191727e+05</td>\n",
       "    </tr>\n",
       "    <tr>\n",
       "      <th>Population</th>\n",
       "      <td>1649.0</td>\n",
       "      <td>1.465363e+07</td>\n",
       "      <td>7.046039e+07</td>\n",
       "      <td>34.00000</td>\n",
       "      <td>191897.000000</td>\n",
       "      <td>1.419631e+06</td>\n",
       "      <td>7.658972e+06</td>\n",
       "      <td>1.293859e+09</td>\n",
       "    </tr>\n",
       "    <tr>\n",
       "      <th>thinness  1-19 years</th>\n",
       "      <td>1649.0</td>\n",
       "      <td>4.850637e+00</td>\n",
       "      <td>4.599228e+00</td>\n",
       "      <td>0.10000</td>\n",
       "      <td>1.600000</td>\n",
       "      <td>3.000000e+00</td>\n",
       "      <td>7.100000e+00</td>\n",
       "      <td>2.720000e+01</td>\n",
       "    </tr>\n",
       "    <tr>\n",
       "      <th>thinness 5-9 years</th>\n",
       "      <td>1649.0</td>\n",
       "      <td>4.907762e+00</td>\n",
       "      <td>4.653757e+00</td>\n",
       "      <td>0.10000</td>\n",
       "      <td>1.700000</td>\n",
       "      <td>3.200000e+00</td>\n",
       "      <td>7.100000e+00</td>\n",
       "      <td>2.820000e+01</td>\n",
       "    </tr>\n",
       "    <tr>\n",
       "      <th>Income composition of resources</th>\n",
       "      <td>1649.0</td>\n",
       "      <td>6.315512e-01</td>\n",
       "      <td>1.830887e-01</td>\n",
       "      <td>0.00000</td>\n",
       "      <td>0.509000</td>\n",
       "      <td>6.730000e-01</td>\n",
       "      <td>7.510000e-01</td>\n",
       "      <td>9.360000e-01</td>\n",
       "    </tr>\n",
       "    <tr>\n",
       "      <th>Schooling</th>\n",
       "      <td>1649.0</td>\n",
       "      <td>1.211989e+01</td>\n",
       "      <td>2.795388e+00</td>\n",
       "      <td>4.20000</td>\n",
       "      <td>10.300000</td>\n",
       "      <td>1.230000e+01</td>\n",
       "      <td>1.400000e+01</td>\n",
       "      <td>2.070000e+01</td>\n",
       "    </tr>\n",
       "  </tbody>\n",
       "</table>\n",
       "</div>"
      ],
      "text/plain": [
       "                                  count          mean           std  \\\n",
       "Year                             1649.0  2.007841e+03  4.087711e+00   \n",
       "Life expectancy                  1649.0  6.930230e+01  8.796834e+00   \n",
       "Adult Mortality                  1649.0  1.682153e+02  1.253104e+02   \n",
       "infant deaths                    1649.0  3.255306e+01  1.208472e+02   \n",
       "Alcohol                          1649.0  4.533196e+00  4.029189e+00   \n",
       "percentage expenditure           1649.0  6.989736e+02  1.759229e+03   \n",
       "Hepatitis B                      1649.0  7.921771e+01  2.560466e+01   \n",
       "Measles                          1649.0  2.224494e+03  1.008580e+04   \n",
       " BMI                             1649.0  3.812862e+01  1.975425e+01   \n",
       "under-five deaths                1649.0  4.422013e+01  1.628980e+02   \n",
       "Polio                            1649.0  8.356458e+01  2.245056e+01   \n",
       "Total expenditure                1649.0  5.955925e+00  2.299385e+00   \n",
       "Diphtheria                       1649.0  8.415525e+01  2.157919e+01   \n",
       " HIV/AIDS                        1649.0  1.983869e+00  6.032360e+00   \n",
       "GDP                              1649.0  5.566032e+03  1.147590e+04   \n",
       "Population                       1649.0  1.465363e+07  7.046039e+07   \n",
       " thinness  1-19 years            1649.0  4.850637e+00  4.599228e+00   \n",
       " thinness 5-9 years              1649.0  4.907762e+00  4.653757e+00   \n",
       "Income composition of resources  1649.0  6.315512e-01  1.830887e-01   \n",
       "Schooling                        1649.0  1.211989e+01  2.795388e+00   \n",
       "\n",
       "                                        min            25%           50%  \\\n",
       "Year                             2000.00000    2005.000000  2.008000e+03   \n",
       "Life expectancy                    44.00000      64.400000  7.170000e+01   \n",
       "Adult Mortality                     1.00000      77.000000  1.480000e+02   \n",
       "infant deaths                       0.00000       1.000000  3.000000e+00   \n",
       "Alcohol                             0.01000       0.810000  3.790000e+00   \n",
       "percentage expenditure              0.00000      37.438577  1.451023e+02   \n",
       "Hepatitis B                         2.00000      74.000000  8.900000e+01   \n",
       "Measles                             0.00000       0.000000  1.500000e+01   \n",
       " BMI                                2.00000      19.500000  4.370000e+01   \n",
       "under-five deaths                   0.00000       1.000000  4.000000e+00   \n",
       "Polio                               3.00000      81.000000  9.300000e+01   \n",
       "Total expenditure                   0.74000       4.410000  5.840000e+00   \n",
       "Diphtheria                          2.00000      82.000000  9.200000e+01   \n",
       " HIV/AIDS                           0.10000       0.100000  1.000000e-01   \n",
       "GDP                                 1.68135     462.149650  1.592572e+03   \n",
       "Population                         34.00000  191897.000000  1.419631e+06   \n",
       " thinness  1-19 years               0.10000       1.600000  3.000000e+00   \n",
       " thinness 5-9 years                 0.10000       1.700000  3.200000e+00   \n",
       "Income composition of resources     0.00000       0.509000  6.730000e-01   \n",
       "Schooling                           4.20000      10.300000  1.230000e+01   \n",
       "\n",
       "                                          75%           max  \n",
       "Year                             2.011000e+03  2.015000e+03  \n",
       "Life expectancy                  7.500000e+01  8.900000e+01  \n",
       "Adult Mortality                  2.270000e+02  7.230000e+02  \n",
       "infant deaths                    2.200000e+01  1.600000e+03  \n",
       "Alcohol                          7.340000e+00  1.787000e+01  \n",
       "percentage expenditure           5.093900e+02  1.896135e+04  \n",
       "Hepatitis B                      9.600000e+01  9.900000e+01  \n",
       "Measles                          3.730000e+02  1.314410e+05  \n",
       " BMI                             5.580000e+01  7.710000e+01  \n",
       "under-five deaths                2.900000e+01  2.100000e+03  \n",
       "Polio                            9.700000e+01  9.900000e+01  \n",
       "Total expenditure                7.470000e+00  1.439000e+01  \n",
       "Diphtheria                       9.700000e+01  9.900000e+01  \n",
       " HIV/AIDS                        7.000000e-01  5.060000e+01  \n",
       "GDP                              4.718513e+03  1.191727e+05  \n",
       "Population                       7.658972e+06  1.293859e+09  \n",
       " thinness  1-19 years            7.100000e+00  2.720000e+01  \n",
       " thinness 5-9 years              7.100000e+00  2.820000e+01  \n",
       "Income composition of resources  7.510000e-01  9.360000e-01  \n",
       "Schooling                        1.400000e+01  2.070000e+01  "
      ]
     },
     "execution_count": 57,
     "metadata": {},
     "output_type": "execute_result"
    }
   ],
   "source": [
    "df.describe().transpose()"
   ]
  },
  {
   "cell_type": "code",
   "execution_count": 58,
   "metadata": {},
   "outputs": [
    {
     "data": {
      "text/plain": [
       "<AxesSubplot:>"
      ]
     },
     "execution_count": 58,
     "metadata": {},
     "output_type": "execute_result"
    },
    {
     "data": {
      "image/png": "[encoded data removed]",
      "text/plain": [
       "<Figure size 432x288 with 2 Axes>"
      ]
     },
     "metadata": {
      "needs_background": "light"
     },
     "output_type": "display_data"
    }
   ],
   "source": [
    "sns.heatmap(df.corr(), cmap='RdYlGn')"
   ]
  },
  {
   "cell_type": "code",
   "execution_count": 59,
   "metadata": {},
   "outputs": [],
   "source": [
    "\n",
    "y = df['Life expectancy '].values\n",
    "X_gdp = df['GDP'].values\n"
   ]
  },
  {
   "cell_type": "code",
   "execution_count": 60,
   "metadata": {},
   "outputs": [
    {
     "data": {
      "image/png": "[encoded data removed]",
      "text/plain": [
       "<Figure size 1440x1800 with 1 Axes>"
      ]
     },
     "metadata": {
      "needs_background": "light"
     },
     "output_type": "display_data"
    }
   ],
   "source": [
    "plt.figure(figsize=(20,25))\n",
    "plt.scatter(X_gdp, y)\n",
    "\n",
    "plt.xlabel('GDP')\n",
    "plt.ylabel('Life Expectancy')\n",
    "plt.show()"
   ]
  },
  {
   "cell_type": "code",
   "execution_count": 61,
   "metadata": {},
   "outputs": [],
   "source": [
    "lnreg = LinearRegression()"
   ]
  },
  {
   "cell_type": "code",
   "execution_count": 62,
   "metadata": {},
   "outputs": [],
   "source": [
    "prediction_space = np.linspace(min(X_gdp), max(X_gdp)).reshape(-1,1)"
   ]
  },
  {
   "cell_type": "code",
   "execution_count": 63,
   "metadata": {},
   "outputs": [
    {
     "name": "stdout",
     "output_type": "stream",
     "text": [
      "[65.  59.9 59.9 ... 44.8 45.3 46. ]\n"
     ]
    }
   ],
   "source": [
    "print(y)"
   ]
  },
  {
   "cell_type": "code",
   "execution_count": 64,
   "metadata": {},
   "outputs": [
    {
     "name": "stdout",
     "output_type": "stream",
     "text": [
      "[584.25921   612.696514  631.744976  ...  57.34834   548.587312\n",
      " 547.3588785]\n"
     ]
    }
   ],
   "source": [
    "print(X_gdp)"
   ]
  },
  {
   "cell_type": "code",
   "execution_count": 65,
   "metadata": {},
   "outputs": [],
   "source": [
    "X_gdp=np.array(X_gdp).reshape(-1,1)"
   ]
  },
  {
   "cell_type": "code",
   "execution_count": 66,
   "metadata": {},
   "outputs": [],
   "source": [
    "y=np.array(y).reshape(-1,1)"
   ]
  },
  {
   "cell_type": "code",
   "execution_count": 67,
   "metadata": {},
   "outputs": [
    {
     "data": {
      "text/plain": [
       "LinearRegression()"
      ]
     },
     "execution_count": 67,
     "metadata": {},
     "output_type": "execute_result"
    }
   ],
   "source": [
    "lnreg.fit(X_gdp,y)"
   ]
  },
  {
   "cell_type": "code",
   "execution_count": 68,
   "metadata": {},
   "outputs": [],
   "source": [
    "y_pred = lnreg.predict(prediction_space)"
   ]
  },
  {
   "cell_type": "code",
   "execution_count": 69,
   "metadata": {},
   "outputs": [
    {
     "name": "stdout",
     "output_type": "stream",
     "text": [
      "1.0\n"
     ]
    }
   ],
   "source": [
    "print(lnreg.score(prediction_space, y_pred))"
   ]
  },
  {
   "cell_type": "code",
   "execution_count": 70,
   "metadata": {},
   "outputs": [
    {
     "data": {
      "image/png": "[encoded data removed]",
      "text/plain": [
       "<Figure size 1800x1800 with 1 Axes>"
      ]
     },
     "metadata": {
      "needs_background": "light"
     },
     "output_type": "display_data"
    }
   ],
   "source": [
    "plt.figure(figsize=(25,25))\n",
    "plt.scatter(X_gdp, y)\n",
    "plt.plot(prediction_space, y_pred, color='black', linewidth=3)\n",
    "\n",
    "plt.xlabel('GDP')\n",
    "plt.ylabel('Life Expectancy')\n",
    "plt.show()"
   ]
  },
  {
   "cell_type": "code",
   "execution_count": 71,
   "metadata": {},
   "outputs": [],
   "source": [
    "df = df.drop(['Country','Year','Status'], axis=1)"
   ]
  },
  {
   "cell_type": "code",
   "execution_count": 72,
   "metadata": {},
   "outputs": [
    {
     "data": {
      "text/html": [
       "<div>\n",
       "<style scoped>\n",
       "    .dataframe tbody tr th:only-of-type {\n",
       "        vertical-align: middle;\n",
       "    }\n",
       "\n",
       "    .dataframe tbody tr th {\n",
       "        vertical-align: top;\n",
       "    }\n",
       "\n",
       "    .dataframe thead th {\n",
       "        text-align: right;\n",
       "    }\n",
       "</style>\n",
       "<table border=\"1\" class=\"dataframe\">\n",
       "  <thead>\n",
       "    <tr style=\"text-align: right;\">\n",
       "      <th></th>\n",
       "      <th>Life expectancy</th>\n",
       "      <th>Adult Mortality</th>\n",
       "      <th>infant deaths</th>\n",
       "      <th>Alcohol</th>\n",
       "      <th>percentage expenditure</th>\n",
       "      <th>Hepatitis B</th>\n",
       "      <th>Measles</th>\n",
       "      <th>BMI</th>\n",
       "      <th>under-five deaths</th>\n",
       "      <th>Polio</th>\n",
       "      <th>Total expenditure</th>\n",
       "      <th>Diphtheria</th>\n",
       "      <th>HIV/AIDS</th>\n",
       "      <th>GDP</th>\n",
       "      <th>Population</th>\n",
       "      <th>thinness  1-19 years</th>\n",
       "      <th>thinness 5-9 years</th>\n",
       "      <th>Income composition of resources</th>\n",
       "      <th>Schooling</th>\n",
       "    </tr>\n",
       "  </thead>\n",
       "  <tbody>\n",
       "    <tr>\n",
       "      <th>count</th>\n",
       "      <td>1649.000000</td>\n",
       "      <td>1649.000000</td>\n",
       "      <td>1649.000000</td>\n",
       "      <td>1649.000000</td>\n",
       "      <td>1649.000000</td>\n",
       "      <td>1649.000000</td>\n",
       "      <td>1649.000000</td>\n",
       "      <td>1649.000000</td>\n",
       "      <td>1649.000000</td>\n",
       "      <td>1649.000000</td>\n",
       "      <td>1649.000000</td>\n",
       "      <td>1649.000000</td>\n",
       "      <td>1649.000000</td>\n",
       "      <td>1649.000000</td>\n",
       "      <td>1.649000e+03</td>\n",
       "      <td>1649.000000</td>\n",
       "      <td>1649.000000</td>\n",
       "      <td>1649.000000</td>\n",
       "      <td>1649.000000</td>\n",
       "    </tr>\n",
       "    <tr>\n",
       "      <th>mean</th>\n",
       "      <td>69.302304</td>\n",
       "      <td>168.215282</td>\n",
       "      <td>32.553062</td>\n",
       "      <td>4.533196</td>\n",
       "      <td>698.973558</td>\n",
       "      <td>79.217708</td>\n",
       "      <td>2224.494239</td>\n",
       "      <td>38.128623</td>\n",
       "      <td>44.220133</td>\n",
       "      <td>83.564585</td>\n",
       "      <td>5.955925</td>\n",
       "      <td>84.155246</td>\n",
       "      <td>1.983869</td>\n",
       "      <td>5566.031887</td>\n",
       "      <td>1.465363e+07</td>\n",
       "      <td>4.850637</td>\n",
       "      <td>4.907762</td>\n",
       "      <td>0.631551</td>\n",
       "      <td>12.119891</td>\n",
       "    </tr>\n",
       "    <tr>\n",
       "      <th>std</th>\n",
       "      <td>8.796834</td>\n",
       "      <td>125.310417</td>\n",
       "      <td>120.847190</td>\n",
       "      <td>4.029189</td>\n",
       "      <td>1759.229336</td>\n",
       "      <td>25.604664</td>\n",
       "      <td>10085.802019</td>\n",
       "      <td>19.754249</td>\n",
       "      <td>162.897999</td>\n",
       "      <td>22.450557</td>\n",
       "      <td>2.299385</td>\n",
       "      <td>21.579193</td>\n",
       "      <td>6.032360</td>\n",
       "      <td>11475.900117</td>\n",
       "      <td>7.046039e+07</td>\n",
       "      <td>4.599228</td>\n",
       "      <td>4.653757</td>\n",
       "      <td>0.183089</td>\n",
       "      <td>2.795388</td>\n",
       "    </tr>\n",
       "    <tr>\n",
       "      <th>min</th>\n",
       "      <td>44.000000</td>\n",
       "      <td>1.000000</td>\n",
       "      <td>0.000000</td>\n",
       "      <td>0.010000</td>\n",
       "      <td>0.000000</td>\n",
       "      <td>2.000000</td>\n",
       "      <td>0.000000</td>\n",
       "      <td>2.000000</td>\n",
       "      <td>0.000000</td>\n",
       "      <td>3.000000</td>\n",
       "      <td>0.740000</td>\n",
       "      <td>2.000000</td>\n",
       "      <td>0.100000</td>\n",
       "      <td>1.681350</td>\n",
       "      <td>3.400000e+01</td>\n",
       "      <td>0.100000</td>\n",
       "      <td>0.100000</td>\n",
       "      <td>0.000000</td>\n",
       "      <td>4.200000</td>\n",
       "    </tr>\n",
       "    <tr>\n",
       "      <th>25%</th>\n",
       "      <td>64.400000</td>\n",
       "      <td>77.000000</td>\n",
       "      <td>1.000000</td>\n",
       "      <td>0.810000</td>\n",
       "      <td>37.438577</td>\n",
       "      <td>74.000000</td>\n",
       "      <td>0.000000</td>\n",
       "      <td>19.500000</td>\n",
       "      <td>1.000000</td>\n",
       "      <td>81.000000</td>\n",
       "      <td>4.410000</td>\n",
       "      <td>82.000000</td>\n",
       "      <td>0.100000</td>\n",
       "      <td>462.149650</td>\n",
       "      <td>1.918970e+05</td>\n",
       "      <td>1.600000</td>\n",
       "      <td>1.700000</td>\n",
       "      <td>0.509000</td>\n",
       "      <td>10.300000</td>\n",
       "    </tr>\n",
       "    <tr>\n",
       "      <th>50%</th>\n",
       "      <td>71.700000</td>\n",
       "      <td>148.000000</td>\n",
       "      <td>3.000000</td>\n",
       "      <td>3.790000</td>\n",
       "      <td>145.102253</td>\n",
       "      <td>89.000000</td>\n",
       "      <td>15.000000</td>\n",
       "      <td>43.700000</td>\n",
       "      <td>4.000000</td>\n",
       "      <td>93.000000</td>\n",
       "      <td>5.840000</td>\n",
       "      <td>92.000000</td>\n",
       "      <td>0.100000</td>\n",
       "      <td>1592.572182</td>\n",
       "      <td>1.419631e+06</td>\n",
       "      <td>3.000000</td>\n",
       "      <td>3.200000</td>\n",
       "      <td>0.673000</td>\n",
       "      <td>12.300000</td>\n",
       "    </tr>\n",
       "    <tr>\n",
       "      <th>75%</th>\n",
       "      <td>75.000000</td>\n",
       "      <td>227.000000</td>\n",
       "      <td>22.000000</td>\n",
       "      <td>7.340000</td>\n",
       "      <td>509.389994</td>\n",
       "      <td>96.000000</td>\n",
       "      <td>373.000000</td>\n",
       "      <td>55.800000</td>\n",
       "      <td>29.000000</td>\n",
       "      <td>97.000000</td>\n",
       "      <td>7.470000</td>\n",
       "      <td>97.000000</td>\n",
       "      <td>0.700000</td>\n",
       "      <td>4718.512910</td>\n",
       "      <td>7.658972e+06</td>\n",
       "      <td>7.100000</td>\n",
       "      <td>7.100000</td>\n",
       "      <td>0.751000</td>\n",
       "      <td>14.000000</td>\n",
       "    </tr>\n",
       "    <tr>\n",
       "      <th>max</th>\n",
       "      <td>89.000000</td>\n",
       "      <td>723.000000</td>\n",
       "      <td>1600.000000</td>\n",
       "      <td>17.870000</td>\n",
       "      <td>18961.348600</td>\n",
       "      <td>99.000000</td>\n",
       "      <td>131441.000000</td>\n",
       "      <td>77.100000</td>\n",
       "      <td>2100.000000</td>\n",
       "      <td>99.000000</td>\n",
       "      <td>14.390000</td>\n",
       "      <td>99.000000</td>\n",
       "      <td>50.600000</td>\n",
       "      <td>119172.741800</td>\n",
       "      <td>1.293859e+09</td>\n",
       "      <td>27.200000</td>\n",
       "      <td>28.200000</td>\n",
       "      <td>0.936000</td>\n",
       "      <td>20.700000</td>\n",
       "    </tr>\n",
       "  </tbody>\n",
       "</table>\n",
       "</div>"
      ],
      "text/plain": [
       "       Life expectancy   Adult Mortality  infant deaths      Alcohol  \\\n",
       "count       1649.000000      1649.000000    1649.000000  1649.000000   \n",
       "mean          69.302304       168.215282      32.553062     4.533196   \n",
       "std            8.796834       125.310417     120.847190     4.029189   \n",
       "min           44.000000         1.000000       0.000000     0.010000   \n",
       "25%           64.400000        77.000000       1.000000     0.810000   \n",
       "50%           71.700000       148.000000       3.000000     3.790000   \n",
       "75%           75.000000       227.000000      22.000000     7.340000   \n",
       "max           89.000000       723.000000    1600.000000    17.870000   \n",
       "\n",
       "       percentage expenditure  Hepatitis B       Measles          BMI   \\\n",
       "count             1649.000000  1649.000000    1649.000000  1649.000000   \n",
       "mean               698.973558    79.217708    2224.494239    38.128623   \n",
       "std               1759.229336    25.604664   10085.802019    19.754249   \n",
       "min                  0.000000     2.000000       0.000000     2.000000   \n",
       "25%                 37.438577    74.000000       0.000000    19.500000   \n",
       "50%                145.102253    89.000000      15.000000    43.700000   \n",
       "75%                509.389994    96.000000     373.000000    55.800000   \n",
       "max              18961.348600    99.000000  131441.000000    77.100000   \n",
       "\n",
       "       under-five deaths         Polio  Total expenditure  Diphtheria   \\\n",
       "count         1649.000000  1649.000000        1649.000000  1649.000000   \n",
       "mean            44.220133    83.564585           5.955925    84.155246   \n",
       "std            162.897999    22.450557           2.299385    21.579193   \n",
       "min              0.000000     3.000000           0.740000     2.000000   \n",
       "25%              1.000000    81.000000           4.410000    82.000000   \n",
       "50%              4.000000    93.000000           5.840000    92.000000   \n",
       "75%             29.000000    97.000000           7.470000    97.000000   \n",
       "max           2100.000000    99.000000          14.390000    99.000000   \n",
       "\n",
       "          HIV/AIDS            GDP    Population   thinness  1-19 years  \\\n",
       "count  1649.000000    1649.000000  1.649000e+03            1649.000000   \n",
       "mean      1.983869    5566.031887  1.465363e+07               4.850637   \n",
       "std       6.032360   11475.900117  7.046039e+07               4.599228   \n",
       "min       0.100000       1.681350  3.400000e+01               0.100000   \n",
       "25%       0.100000     462.149650  1.918970e+05               1.600000   \n",
       "50%       0.100000    1592.572182  1.419631e+06               3.000000   \n",
       "75%       0.700000    4718.512910  7.658972e+06               7.100000   \n",
       "max      50.600000  119172.741800  1.293859e+09              27.200000   \n",
       "\n",
       "        thinness 5-9 years  Income composition of resources    Schooling  \n",
       "count          1649.000000                      1649.000000  1649.000000  \n",
       "mean              4.907762                         0.631551    12.119891  \n",
       "std               4.653757                         0.183089     2.795388  \n",
       "min               0.100000                         0.000000     4.200000  \n",
       "25%               1.700000                         0.509000    10.300000  \n",
       "50%               3.200000                         0.673000    12.300000  \n",
       "75%               7.100000                         0.751000    14.000000  \n",
       "max              28.200000                         0.936000    20.700000  "
      ]
     },
     "execution_count": 72,
     "metadata": {},
     "output_type": "execute_result"
    }
   ],
   "source": [
    "df.describe()"
   ]
  },
  {
   "cell_type": "code",
   "execution_count": 73,
   "metadata": {},
   "outputs": [
    {
     "data": {
      "text/html": [
       "<div>\n",
       "<style scoped>\n",
       "    .dataframe tbody tr th:only-of-type {\n",
       "        vertical-align: middle;\n",
       "    }\n",
       "\n",
       "    .dataframe tbody tr th {\n",
       "        vertical-align: top;\n",
       "    }\n",
       "\n",
       "    .dataframe thead th {\n",
       "        text-align: right;\n",
       "    }\n",
       "</style>\n",
       "<table border=\"1\" class=\"dataframe\">\n",
       "  <thead>\n",
       "    <tr style=\"text-align: right;\">\n",
       "      <th></th>\n",
       "      <th>Life expectancy</th>\n",
       "      <th>Adult Mortality</th>\n",
       "      <th>infant deaths</th>\n",
       "      <th>Alcohol</th>\n",
       "      <th>percentage expenditure</th>\n",
       "      <th>Hepatitis B</th>\n",
       "      <th>Measles</th>\n",
       "      <th>BMI</th>\n",
       "      <th>under-five deaths</th>\n",
       "      <th>Polio</th>\n",
       "      <th>Total expenditure</th>\n",
       "      <th>Diphtheria</th>\n",
       "      <th>HIV/AIDS</th>\n",
       "      <th>GDP</th>\n",
       "      <th>Population</th>\n",
       "      <th>thinness  1-19 years</th>\n",
       "      <th>thinness 5-9 years</th>\n",
       "      <th>Income composition of resources</th>\n",
       "      <th>Schooling</th>\n",
       "    </tr>\n",
       "  </thead>\n",
       "  <tbody>\n",
       "    <tr>\n",
       "      <th>0</th>\n",
       "      <td>65.0</td>\n",
       "      <td>263.0</td>\n",
       "      <td>62</td>\n",
       "      <td>0.01</td>\n",
       "      <td>71.279624</td>\n",
       "      <td>65.0</td>\n",
       "      <td>1154</td>\n",
       "      <td>19.1</td>\n",
       "      <td>83</td>\n",
       "      <td>6.0</td>\n",
       "      <td>8.16</td>\n",
       "      <td>65.0</td>\n",
       "      <td>0.1</td>\n",
       "      <td>584.259210</td>\n",
       "      <td>33736494.0</td>\n",
       "      <td>17.2</td>\n",
       "      <td>17.3</td>\n",
       "      <td>0.479</td>\n",
       "      <td>10.1</td>\n",
       "    </tr>\n",
       "    <tr>\n",
       "      <th>1</th>\n",
       "      <td>59.9</td>\n",
       "      <td>271.0</td>\n",
       "      <td>64</td>\n",
       "      <td>0.01</td>\n",
       "      <td>73.523582</td>\n",
       "      <td>62.0</td>\n",
       "      <td>492</td>\n",
       "      <td>18.6</td>\n",
       "      <td>86</td>\n",
       "      <td>58.0</td>\n",
       "      <td>8.18</td>\n",
       "      <td>62.0</td>\n",
       "      <td>0.1</td>\n",
       "      <td>612.696514</td>\n",
       "      <td>327582.0</td>\n",
       "      <td>17.5</td>\n",
       "      <td>17.5</td>\n",
       "      <td>0.476</td>\n",
       "      <td>10.0</td>\n",
       "    </tr>\n",
       "    <tr>\n",
       "      <th>2</th>\n",
       "      <td>59.9</td>\n",
       "      <td>268.0</td>\n",
       "      <td>66</td>\n",
       "      <td>0.01</td>\n",
       "      <td>73.219243</td>\n",
       "      <td>64.0</td>\n",
       "      <td>430</td>\n",
       "      <td>18.1</td>\n",
       "      <td>89</td>\n",
       "      <td>62.0</td>\n",
       "      <td>8.13</td>\n",
       "      <td>64.0</td>\n",
       "      <td>0.1</td>\n",
       "      <td>631.744976</td>\n",
       "      <td>31731688.0</td>\n",
       "      <td>17.7</td>\n",
       "      <td>17.7</td>\n",
       "      <td>0.470</td>\n",
       "      <td>9.9</td>\n",
       "    </tr>\n",
       "    <tr>\n",
       "      <th>3</th>\n",
       "      <td>59.5</td>\n",
       "      <td>272.0</td>\n",
       "      <td>69</td>\n",
       "      <td>0.01</td>\n",
       "      <td>78.184215</td>\n",
       "      <td>67.0</td>\n",
       "      <td>2787</td>\n",
       "      <td>17.6</td>\n",
       "      <td>93</td>\n",
       "      <td>67.0</td>\n",
       "      <td>8.52</td>\n",
       "      <td>67.0</td>\n",
       "      <td>0.1</td>\n",
       "      <td>669.959000</td>\n",
       "      <td>3696958.0</td>\n",
       "      <td>17.9</td>\n",
       "      <td>18.0</td>\n",
       "      <td>0.463</td>\n",
       "      <td>9.8</td>\n",
       "    </tr>\n",
       "    <tr>\n",
       "      <th>4</th>\n",
       "      <td>59.2</td>\n",
       "      <td>275.0</td>\n",
       "      <td>71</td>\n",
       "      <td>0.01</td>\n",
       "      <td>7.097109</td>\n",
       "      <td>68.0</td>\n",
       "      <td>3013</td>\n",
       "      <td>17.2</td>\n",
       "      <td>97</td>\n",
       "      <td>68.0</td>\n",
       "      <td>7.87</td>\n",
       "      <td>68.0</td>\n",
       "      <td>0.1</td>\n",
       "      <td>63.537231</td>\n",
       "      <td>2978599.0</td>\n",
       "      <td>18.2</td>\n",
       "      <td>18.2</td>\n",
       "      <td>0.454</td>\n",
       "      <td>9.5</td>\n",
       "    </tr>\n",
       "  </tbody>\n",
       "</table>\n",
       "</div>"
      ],
      "text/plain": [
       "   Life expectancy   Adult Mortality  infant deaths  Alcohol  \\\n",
       "0              65.0            263.0             62     0.01   \n",
       "1              59.9            271.0             64     0.01   \n",
       "2              59.9            268.0             66     0.01   \n",
       "3              59.5            272.0             69     0.01   \n",
       "4              59.2            275.0             71     0.01   \n",
       "\n",
       "   percentage expenditure  Hepatitis B  Measles    BMI   under-five deaths   \\\n",
       "0               71.279624         65.0      1154   19.1                  83   \n",
       "1               73.523582         62.0       492   18.6                  86   \n",
       "2               73.219243         64.0       430   18.1                  89   \n",
       "3               78.184215         67.0      2787   17.6                  93   \n",
       "4                7.097109         68.0      3013   17.2                  97   \n",
       "\n",
       "   Polio  Total expenditure  Diphtheria    HIV/AIDS         GDP  Population  \\\n",
       "0    6.0               8.16         65.0        0.1  584.259210  33736494.0   \n",
       "1   58.0               8.18         62.0        0.1  612.696514    327582.0   \n",
       "2   62.0               8.13         64.0        0.1  631.744976  31731688.0   \n",
       "3   67.0               8.52         67.0        0.1  669.959000   3696958.0   \n",
       "4   68.0               7.87         68.0        0.1   63.537231   2978599.0   \n",
       "\n",
       "    thinness  1-19 years   thinness 5-9 years  \\\n",
       "0                   17.2                 17.3   \n",
       "1                   17.5                 17.5   \n",
       "2                   17.7                 17.7   \n",
       "3                   17.9                 18.0   \n",
       "4                   18.2                 18.2   \n",
       "\n",
       "   Income composition of resources  Schooling  \n",
       "0                            0.479       10.1  \n",
       "1                            0.476       10.0  \n",
       "2                            0.470        9.9  \n",
       "3                            0.463        9.8  \n",
       "4                            0.454        9.5  "
      ]
     },
     "execution_count": 73,
     "metadata": {},
     "output_type": "execute_result"
    }
   ],
   "source": [
    "df.head()"
   ]
  },
  {
   "cell_type": "code",
   "execution_count": 74,
   "metadata": {},
   "outputs": [
    {
     "data": {
      "text/html": [
       "<div>\n",
       "<style scoped>\n",
       "    .dataframe tbody tr th:only-of-type {\n",
       "        vertical-align: middle;\n",
       "    }\n",
       "\n",
       "    .dataframe tbody tr th {\n",
       "        vertical-align: top;\n",
       "    }\n",
       "\n",
       "    .dataframe thead th {\n",
       "        text-align: right;\n",
       "    }\n",
       "</style>\n",
       "<table border=\"1\" class=\"dataframe\">\n",
       "  <thead>\n",
       "    <tr style=\"text-align: right;\">\n",
       "      <th></th>\n",
       "      <th>Life expectancy</th>\n",
       "      <th>Adult Mortality</th>\n",
       "      <th>infant deaths</th>\n",
       "      <th>Alcohol</th>\n",
       "      <th>percentage expenditure</th>\n",
       "      <th>Hepatitis B</th>\n",
       "      <th>Measles</th>\n",
       "      <th>BMI</th>\n",
       "      <th>under-five deaths</th>\n",
       "      <th>Polio</th>\n",
       "      <th>Total expenditure</th>\n",
       "      <th>Diphtheria</th>\n",
       "      <th>HIV/AIDS</th>\n",
       "      <th>GDP</th>\n",
       "      <th>Population</th>\n",
       "      <th>thinness  1-19 years</th>\n",
       "      <th>thinness 5-9 years</th>\n",
       "      <th>Income composition of resources</th>\n",
       "      <th>Schooling</th>\n",
       "    </tr>\n",
       "  </thead>\n",
       "  <tbody>\n",
       "    <tr>\n",
       "      <th>2933</th>\n",
       "      <td>44.3</td>\n",
       "      <td>723.0</td>\n",
       "      <td>27</td>\n",
       "      <td>4.36</td>\n",
       "      <td>0.0</td>\n",
       "      <td>68.0</td>\n",
       "      <td>31</td>\n",
       "      <td>27.1</td>\n",
       "      <td>42</td>\n",
       "      <td>67.0</td>\n",
       "      <td>7.13</td>\n",
       "      <td>65.0</td>\n",
       "      <td>33.6</td>\n",
       "      <td>454.366654</td>\n",
       "      <td>12777511.0</td>\n",
       "      <td>9.4</td>\n",
       "      <td>9.4</td>\n",
       "      <td>0.407</td>\n",
       "      <td>9.2</td>\n",
       "    </tr>\n",
       "    <tr>\n",
       "      <th>2934</th>\n",
       "      <td>44.5</td>\n",
       "      <td>715.0</td>\n",
       "      <td>26</td>\n",
       "      <td>4.06</td>\n",
       "      <td>0.0</td>\n",
       "      <td>7.0</td>\n",
       "      <td>998</td>\n",
       "      <td>26.7</td>\n",
       "      <td>41</td>\n",
       "      <td>7.0</td>\n",
       "      <td>6.52</td>\n",
       "      <td>68.0</td>\n",
       "      <td>36.7</td>\n",
       "      <td>453.351155</td>\n",
       "      <td>12633897.0</td>\n",
       "      <td>9.8</td>\n",
       "      <td>9.9</td>\n",
       "      <td>0.418</td>\n",
       "      <td>9.5</td>\n",
       "    </tr>\n",
       "    <tr>\n",
       "      <th>2935</th>\n",
       "      <td>44.8</td>\n",
       "      <td>73.0</td>\n",
       "      <td>25</td>\n",
       "      <td>4.43</td>\n",
       "      <td>0.0</td>\n",
       "      <td>73.0</td>\n",
       "      <td>304</td>\n",
       "      <td>26.3</td>\n",
       "      <td>40</td>\n",
       "      <td>73.0</td>\n",
       "      <td>6.53</td>\n",
       "      <td>71.0</td>\n",
       "      <td>39.8</td>\n",
       "      <td>57.348340</td>\n",
       "      <td>125525.0</td>\n",
       "      <td>1.2</td>\n",
       "      <td>1.3</td>\n",
       "      <td>0.427</td>\n",
       "      <td>10.0</td>\n",
       "    </tr>\n",
       "    <tr>\n",
       "      <th>2936</th>\n",
       "      <td>45.3</td>\n",
       "      <td>686.0</td>\n",
       "      <td>25</td>\n",
       "      <td>1.72</td>\n",
       "      <td>0.0</td>\n",
       "      <td>76.0</td>\n",
       "      <td>529</td>\n",
       "      <td>25.9</td>\n",
       "      <td>39</td>\n",
       "      <td>76.0</td>\n",
       "      <td>6.16</td>\n",
       "      <td>75.0</td>\n",
       "      <td>42.1</td>\n",
       "      <td>548.587312</td>\n",
       "      <td>12366165.0</td>\n",
       "      <td>1.6</td>\n",
       "      <td>1.7</td>\n",
       "      <td>0.427</td>\n",
       "      <td>9.8</td>\n",
       "    </tr>\n",
       "    <tr>\n",
       "      <th>2937</th>\n",
       "      <td>46.0</td>\n",
       "      <td>665.0</td>\n",
       "      <td>24</td>\n",
       "      <td>1.68</td>\n",
       "      <td>0.0</td>\n",
       "      <td>79.0</td>\n",
       "      <td>1483</td>\n",
       "      <td>25.5</td>\n",
       "      <td>39</td>\n",
       "      <td>78.0</td>\n",
       "      <td>7.10</td>\n",
       "      <td>78.0</td>\n",
       "      <td>43.5</td>\n",
       "      <td>547.358878</td>\n",
       "      <td>12222251.0</td>\n",
       "      <td>11.0</td>\n",
       "      <td>11.2</td>\n",
       "      <td>0.434</td>\n",
       "      <td>9.8</td>\n",
       "    </tr>\n",
       "  </tbody>\n",
       "</table>\n",
       "</div>"
      ],
      "text/plain": [
       "      Life expectancy   Adult Mortality  infant deaths  Alcohol  \\\n",
       "2933              44.3            723.0             27     4.36   \n",
       "2934              44.5            715.0             26     4.06   \n",
       "2935              44.8             73.0             25     4.43   \n",
       "2936              45.3            686.0             25     1.72   \n",
       "2937              46.0            665.0             24     1.68   \n",
       "\n",
       "      percentage expenditure  Hepatitis B  Measles    BMI   \\\n",
       "2933                     0.0         68.0        31   27.1   \n",
       "2934                     0.0          7.0       998   26.7   \n",
       "2935                     0.0         73.0       304   26.3   \n",
       "2936                     0.0         76.0       529   25.9   \n",
       "2937                     0.0         79.0      1483   25.5   \n",
       "\n",
       "      under-five deaths   Polio  Total expenditure  Diphtheria    HIV/AIDS  \\\n",
       "2933                  42   67.0               7.13         65.0       33.6   \n",
       "2934                  41    7.0               6.52         68.0       36.7   \n",
       "2935                  40   73.0               6.53         71.0       39.8   \n",
       "2936                  39   76.0               6.16         75.0       42.1   \n",
       "2937                  39   78.0               7.10         78.0       43.5   \n",
       "\n",
       "             GDP  Population   thinness  1-19 years   thinness 5-9 years  \\\n",
       "2933  454.366654  12777511.0                    9.4                  9.4   \n",
       "2934  453.351155  12633897.0                    9.8                  9.9   \n",
       "2935   57.348340    125525.0                    1.2                  1.3   \n",
       "2936  548.587312  12366165.0                    1.6                  1.7   \n",
       "2937  547.358878  12222251.0                   11.0                 11.2   \n",
       "\n",
       "      Income composition of resources  Schooling  \n",
       "2933                            0.407        9.2  \n",
       "2934                            0.418        9.5  \n",
       "2935                            0.427       10.0  \n",
       "2936                            0.427        9.8  \n",
       "2937                            0.434        9.8  "
      ]
     },
     "execution_count": 74,
     "metadata": {},
     "output_type": "execute_result"
    }
   ],
   "source": [
    "df.tail()"
   ]
  },
  {
   "cell_type": "code",
   "execution_count": 75,
   "metadata": {},
   "outputs": [],
   "source": [
    "y = df['Life expectancy '].values\n",
    "X = df.drop(['Life expectancy '], axis=1).values"
   ]
  },
  {
   "cell_type": "code",
   "execution_count": 76,
   "metadata": {},
   "outputs": [],
   "source": [
    "X_train, X_test, y_train, y_test = train_test_split(X, y, test_size=0.3, random_state=42)"
   ]
  },
  {
   "cell_type": "code",
   "execution_count": 77,
   "metadata": {},
   "outputs": [],
   "source": [
    "ln_reg = LinearRegression()"
   ]
  },
  {
   "cell_type": "code",
   "execution_count": 78,
   "metadata": {},
   "outputs": [
    {
     "data": {
      "text/plain": [
       "LinearRegression()"
      ]
     },
     "execution_count": 78,
     "metadata": {},
     "output_type": "execute_result"
    }
   ],
   "source": [
    "ln_reg.fit(X_train, y_train)"
   ]
  },
  {
   "cell_type": "code",
   "execution_count": 79,
   "metadata": {},
   "outputs": [
    {
     "data": {
      "text/html": [
       "<div>\n",
       "<style scoped>\n",
       "    .dataframe tbody tr th:only-of-type {\n",
       "        vertical-align: middle;\n",
       "    }\n",
       "\n",
       "    .dataframe tbody tr th {\n",
       "        vertical-align: top;\n",
       "    }\n",
       "\n",
       "    .dataframe thead th {\n",
       "        text-align: right;\n",
       "    }\n",
       "</style>\n",
       "<table border=\"1\" class=\"dataframe\">\n",
       "  <thead>\n",
       "    <tr style=\"text-align: right;\">\n",
       "      <th></th>\n",
       "      <th>count</th>\n",
       "      <th>mean</th>\n",
       "      <th>std</th>\n",
       "      <th>min</th>\n",
       "      <th>25%</th>\n",
       "      <th>50%</th>\n",
       "      <th>75%</th>\n",
       "      <th>max</th>\n",
       "    </tr>\n",
       "  </thead>\n",
       "  <tbody>\n",
       "    <tr>\n",
       "      <th>Life expectancy</th>\n",
       "      <td>1649.0</td>\n",
       "      <td>6.930230e+01</td>\n",
       "      <td>8.796834e+00</td>\n",
       "      <td>44.00000</td>\n",
       "      <td>64.400000</td>\n",
       "      <td>7.170000e+01</td>\n",
       "      <td>7.500000e+01</td>\n",
       "      <td>8.900000e+01</td>\n",
       "    </tr>\n",
       "    <tr>\n",
       "      <th>Adult Mortality</th>\n",
       "      <td>1649.0</td>\n",
       "      <td>1.682153e+02</td>\n",
       "      <td>1.253104e+02</td>\n",
       "      <td>1.00000</td>\n",
       "      <td>77.000000</td>\n",
       "      <td>1.480000e+02</td>\n",
       "      <td>2.270000e+02</td>\n",
       "      <td>7.230000e+02</td>\n",
       "    </tr>\n",
       "    <tr>\n",
       "      <th>infant deaths</th>\n",
       "      <td>1649.0</td>\n",
       "      <td>3.255306e+01</td>\n",
       "      <td>1.208472e+02</td>\n",
       "      <td>0.00000</td>\n",
       "      <td>1.000000</td>\n",
       "      <td>3.000000e+00</td>\n",
       "      <td>2.200000e+01</td>\n",
       "      <td>1.600000e+03</td>\n",
       "    </tr>\n",
       "    <tr>\n",
       "      <th>Alcohol</th>\n",
       "      <td>1649.0</td>\n",
       "      <td>4.533196e+00</td>\n",
       "      <td>4.029189e+00</td>\n",
       "      <td>0.01000</td>\n",
       "      <td>0.810000</td>\n",
       "      <td>3.790000e+00</td>\n",
       "      <td>7.340000e+00</td>\n",
       "      <td>1.787000e+01</td>\n",
       "    </tr>\n",
       "    <tr>\n",
       "      <th>percentage expenditure</th>\n",
       "      <td>1649.0</td>\n",
       "      <td>6.989736e+02</td>\n",
       "      <td>1.759229e+03</td>\n",
       "      <td>0.00000</td>\n",
       "      <td>37.438577</td>\n",
       "      <td>1.451023e+02</td>\n",
       "      <td>5.093900e+02</td>\n",
       "      <td>1.896135e+04</td>\n",
       "    </tr>\n",
       "    <tr>\n",
       "      <th>Hepatitis B</th>\n",
       "      <td>1649.0</td>\n",
       "      <td>7.921771e+01</td>\n",
       "      <td>2.560466e+01</td>\n",
       "      <td>2.00000</td>\n",
       "      <td>74.000000</td>\n",
       "      <td>8.900000e+01</td>\n",
       "      <td>9.600000e+01</td>\n",
       "      <td>9.900000e+01</td>\n",
       "    </tr>\n",
       "    <tr>\n",
       "      <th>Measles</th>\n",
       "      <td>1649.0</td>\n",
       "      <td>2.224494e+03</td>\n",
       "      <td>1.008580e+04</td>\n",
       "      <td>0.00000</td>\n",
       "      <td>0.000000</td>\n",
       "      <td>1.500000e+01</td>\n",
       "      <td>3.730000e+02</td>\n",
       "      <td>1.314410e+05</td>\n",
       "    </tr>\n",
       "    <tr>\n",
       "      <th>BMI</th>\n",
       "      <td>1649.0</td>\n",
       "      <td>3.812862e+01</td>\n",
       "      <td>1.975425e+01</td>\n",
       "      <td>2.00000</td>\n",
       "      <td>19.500000</td>\n",
       "      <td>4.370000e+01</td>\n",
       "      <td>5.580000e+01</td>\n",
       "      <td>7.710000e+01</td>\n",
       "    </tr>\n",
       "    <tr>\n",
       "      <th>under-five deaths</th>\n",
       "      <td>1649.0</td>\n",
       "      <td>4.422013e+01</td>\n",
       "      <td>1.628980e+02</td>\n",
       "      <td>0.00000</td>\n",
       "      <td>1.000000</td>\n",
       "      <td>4.000000e+00</td>\n",
       "      <td>2.900000e+01</td>\n",
       "      <td>2.100000e+03</td>\n",
       "    </tr>\n",
       "    <tr>\n",
       "      <th>Polio</th>\n",
       "      <td>1649.0</td>\n",
       "      <td>8.356458e+01</td>\n",
       "      <td>2.245056e+01</td>\n",
       "      <td>3.00000</td>\n",
       "      <td>81.000000</td>\n",
       "      <td>9.300000e+01</td>\n",
       "      <td>9.700000e+01</td>\n",
       "      <td>9.900000e+01</td>\n",
       "    </tr>\n",
       "    <tr>\n",
       "      <th>Total expenditure</th>\n",
       "      <td>1649.0</td>\n",
       "      <td>5.955925e+00</td>\n",
       "      <td>2.299385e+00</td>\n",
       "      <td>0.74000</td>\n",
       "      <td>4.410000</td>\n",
       "      <td>5.840000e+00</td>\n",
       "      <td>7.470000e+00</td>\n",
       "      <td>1.439000e+01</td>\n",
       "    </tr>\n",
       "    <tr>\n",
       "      <th>Diphtheria</th>\n",
       "      <td>1649.0</td>\n",
       "      <td>8.415525e+01</td>\n",
       "      <td>2.157919e+01</td>\n",
       "      <td>2.00000</td>\n",
       "      <td>82.000000</td>\n",
       "      <td>9.200000e+01</td>\n",
       "      <td>9.700000e+01</td>\n",
       "      <td>9.900000e+01</td>\n",
       "    </tr>\n",
       "    <tr>\n",
       "      <th>HIV/AIDS</th>\n",
       "      <td>1649.0</td>\n",
       "      <td>1.983869e+00</td>\n",
       "      <td>6.032360e+00</td>\n",
       "      <td>0.10000</td>\n",
       "      <td>0.100000</td>\n",
       "      <td>1.000000e-01</td>\n",
       "      <td>7.000000e-01</td>\n",
       "      <td>5.060000e+01</td>\n",
       "    </tr>\n",
       "    <tr>\n",
       "      <th>GDP</th>\n",
       "      <td>1649.0</td>\n",
       "      <td>5.566032e+03</td>\n",
       "      <td>1.147590e+04</td>\n",
       "      <td>1.68135</td>\n",
       "      <td>462.149650</td>\n",
       "      <td>1.592572e+03</td>\n",
       "      <td>4.718513e+03</td>\n",
       "      <td>1.191727e+05</td>\n",
       "    </tr>\n",
       "    <tr>\n",
       "      <th>Population</th>\n",
       "      <td>1649.0</td>\n",
       "      <td>1.465363e+07</td>\n",
       "      <td>7.046039e+07</td>\n",
       "      <td>34.00000</td>\n",
       "      <td>191897.000000</td>\n",
       "      <td>1.419631e+06</td>\n",
       "      <td>7.658972e+06</td>\n",
       "      <td>1.293859e+09</td>\n",
       "    </tr>\n",
       "    <tr>\n",
       "      <th>thinness  1-19 years</th>\n",
       "      <td>1649.0</td>\n",
       "      <td>4.850637e+00</td>\n",
       "      <td>4.599228e+00</td>\n",
       "      <td>0.10000</td>\n",
       "      <td>1.600000</td>\n",
       "      <td>3.000000e+00</td>\n",
       "      <td>7.100000e+00</td>\n",
       "      <td>2.720000e+01</td>\n",
       "    </tr>\n",
       "    <tr>\n",
       "      <th>thinness 5-9 years</th>\n",
       "      <td>1649.0</td>\n",
       "      <td>4.907762e+00</td>\n",
       "      <td>4.653757e+00</td>\n",
       "      <td>0.10000</td>\n",
       "      <td>1.700000</td>\n",
       "      <td>3.200000e+00</td>\n",
       "      <td>7.100000e+00</td>\n",
       "      <td>2.820000e+01</td>\n",
       "    </tr>\n",
       "    <tr>\n",
       "      <th>Income composition of resources</th>\n",
       "      <td>1649.0</td>\n",
       "      <td>6.315512e-01</td>\n",
       "      <td>1.830887e-01</td>\n",
       "      <td>0.00000</td>\n",
       "      <td>0.509000</td>\n",
       "      <td>6.730000e-01</td>\n",
       "      <td>7.510000e-01</td>\n",
       "      <td>9.360000e-01</td>\n",
       "    </tr>\n",
       "    <tr>\n",
       "      <th>Schooling</th>\n",
       "      <td>1649.0</td>\n",
       "      <td>1.211989e+01</td>\n",
       "      <td>2.795388e+00</td>\n",
       "      <td>4.20000</td>\n",
       "      <td>10.300000</td>\n",
       "      <td>1.230000e+01</td>\n",
       "      <td>1.400000e+01</td>\n",
       "      <td>2.070000e+01</td>\n",
       "    </tr>\n",
       "  </tbody>\n",
       "</table>\n",
       "</div>"
      ],
      "text/plain": [
       "                                  count          mean           std       min  \\\n",
       "Life expectancy                  1649.0  6.930230e+01  8.796834e+00  44.00000   \n",
       "Adult Mortality                  1649.0  1.682153e+02  1.253104e+02   1.00000   \n",
       "infant deaths                    1649.0  3.255306e+01  1.208472e+02   0.00000   \n",
       "Alcohol                          1649.0  4.533196e+00  4.029189e+00   0.01000   \n",
       "percentage expenditure           1649.0  6.989736e+02  1.759229e+03   0.00000   \n",
       "Hepatitis B                      1649.0  7.921771e+01  2.560466e+01   2.00000   \n",
       "Measles                          1649.0  2.224494e+03  1.008580e+04   0.00000   \n",
       " BMI                             1649.0  3.812862e+01  1.975425e+01   2.00000   \n",
       "under-five deaths                1649.0  4.422013e+01  1.628980e+02   0.00000   \n",
       "Polio                            1649.0  8.356458e+01  2.245056e+01   3.00000   \n",
       "Total expenditure                1649.0  5.955925e+00  2.299385e+00   0.74000   \n",
       "Diphtheria                       1649.0  8.415525e+01  2.157919e+01   2.00000   \n",
       " HIV/AIDS                        1649.0  1.983869e+00  6.032360e+00   0.10000   \n",
       "GDP                              1649.0  5.566032e+03  1.147590e+04   1.68135   \n",
       "Population                       1649.0  1.465363e+07  7.046039e+07  34.00000   \n",
       " thinness  1-19 years            1649.0  4.850637e+00  4.599228e+00   0.10000   \n",
       " thinness 5-9 years              1649.0  4.907762e+00  4.653757e+00   0.10000   \n",
       "Income composition of resources  1649.0  6.315512e-01  1.830887e-01   0.00000   \n",
       "Schooling                        1649.0  1.211989e+01  2.795388e+00   4.20000   \n",
       "\n",
       "                                           25%           50%           75%  \\\n",
       "Life expectancy                      64.400000  7.170000e+01  7.500000e+01   \n",
       "Adult Mortality                      77.000000  1.480000e+02  2.270000e+02   \n",
       "infant deaths                         1.000000  3.000000e+00  2.200000e+01   \n",
       "Alcohol                               0.810000  3.790000e+00  7.340000e+00   \n",
       "percentage expenditure               37.438577  1.451023e+02  5.093900e+02   \n",
       "Hepatitis B                          74.000000  8.900000e+01  9.600000e+01   \n",
       "Measles                               0.000000  1.500000e+01  3.730000e+02   \n",
       " BMI                                 19.500000  4.370000e+01  5.580000e+01   \n",
       "under-five deaths                     1.000000  4.000000e+00  2.900000e+01   \n",
       "Polio                                81.000000  9.300000e+01  9.700000e+01   \n",
       "Total expenditure                     4.410000  5.840000e+00  7.470000e+00   \n",
       "Diphtheria                           82.000000  9.200000e+01  9.700000e+01   \n",
       " HIV/AIDS                             0.100000  1.000000e-01  7.000000e-01   \n",
       "GDP                                 462.149650  1.592572e+03  4.718513e+03   \n",
       "Population                       191897.000000  1.419631e+06  7.658972e+06   \n",
       " thinness  1-19 years                 1.600000  3.000000e+00  7.100000e+00   \n",
       " thinness 5-9 years                   1.700000  3.200000e+00  7.100000e+00   \n",
       "Income composition of resources       0.509000  6.730000e-01  7.510000e-01   \n",
       "Schooling                            10.300000  1.230000e+01  1.400000e+01   \n",
       "\n",
       "                                          max  \n",
       "Life expectancy                  8.900000e+01  \n",
       "Adult Mortality                  7.230000e+02  \n",
       "infant deaths                    1.600000e+03  \n",
       "Alcohol                          1.787000e+01  \n",
       "percentage expenditure           1.896135e+04  \n",
       "Hepatitis B                      9.900000e+01  \n",
       "Measles                          1.314410e+05  \n",
       " BMI                             7.710000e+01  \n",
       "under-five deaths                2.100000e+03  \n",
       "Polio                            9.900000e+01  \n",
       "Total expenditure                1.439000e+01  \n",
       "Diphtheria                       9.900000e+01  \n",
       " HIV/AIDS                        5.060000e+01  \n",
       "GDP                              1.191727e+05  \n",
       "Population                       1.293859e+09  \n",
       " thinness  1-19 years            2.720000e+01  \n",
       " thinness 5-9 years              2.820000e+01  \n",
       "Income composition of resources  9.360000e-01  \n",
       "Schooling                        2.070000e+01  "
      ]
     },
     "execution_count": 79,
     "metadata": {},
     "output_type": "execute_result"
    }
   ],
   "source": [
    "df.describe().transpose()"
   ]
  },
  {
   "cell_type": "code",
   "execution_count": 80,
   "metadata": {},
   "outputs": [],
   "source": [
    "y = df['Life expectancy '].values\n",
    "X_bmi = df['GDP'].values"
   ]
  },
  {
   "cell_type": "code",
   "execution_count": 81,
   "metadata": {},
   "outputs": [
    {
     "data": {
      "image/png": "[encoded data removed]",
      "text/plain": [
       "<Figure size 1440x1800 with 1 Axes>"
      ]
     },
     "metadata": {
      "needs_background": "light"
     },
     "output_type": "display_data"
    }
   ],
   "source": [
    "plt.figure(figsize=(20,25))\n",
    "plt.scatter(X_bmi, y)\n",
    "\n",
    "plt.xlabel('BMI')\n",
    "plt.ylabel('Life Expectancy')\n",
    "plt.show()"
   ]
  },
  {
   "cell_type": "code",
   "execution_count": 82,
   "metadata": {},
   "outputs": [],
   "source": [
    "y = df['Life expectancy '].values\n",
    "X_all = df.drop(['Life expectancy '], axis=1).values"
   ]
  },
  {
   "cell_type": "code",
   "execution_count": 83,
   "metadata": {},
   "outputs": [],
   "source": [
    "X_t, X_te, y_t, y_te = train_test_split(X_all, y, test_size=0.3, random_state=42)\n"
   ]
  },
  {
   "cell_type": "code",
   "execution_count": 84,
   "metadata": {},
   "outputs": [],
   "source": [
    "ln_reg_all = LinearRegression()"
   ]
  },
  {
   "cell_type": "code",
   "execution_count": 85,
   "metadata": {},
   "outputs": [
    {
     "data": {
      "text/plain": [
       "LinearRegression()"
      ]
     },
     "execution_count": 85,
     "metadata": {},
     "output_type": "execute_result"
    }
   ],
   "source": [
    "ln_reg_all.fit(X_t, y_t)\n",
    "\n"
   ]
  },
  {
   "cell_type": "code",
   "execution_count": 86,
   "metadata": {},
   "outputs": [
    {
     "ename": "NameError",
     "evalue": "name 'ln_reg_temp' is not defined",
     "output_type": "error",
     "traceback": [
      "\u001b[1;31m---------------------------------------------------------------------------\u001b[0m",
      "\u001b[1;31mNameError\u001b[0m                                 Traceback (most recent call last)",
      "\u001b[1;32m~\\AppData\\Local\\Temp/ipykernel_18964/620484960.py\u001b[0m in \u001b[0;36m<module>\u001b[1;34m\u001b[0m\n\u001b[1;32m----> 1\u001b[1;33m \u001b[0my_pred\u001b[0m \u001b[1;33m=\u001b[0m \u001b[0mln_reg_temp\u001b[0m\u001b[1;33m.\u001b[0m\u001b[0mpredict\u001b[0m\u001b[1;33m(\u001b[0m\u001b[0mX_test\u001b[0m\u001b[1;33m)\u001b[0m\u001b[1;33m\u001b[0m\u001b[1;33m\u001b[0m\u001b[0m\n\u001b[0m",
      "\u001b[1;31mNameError\u001b[0m: name 'ln_reg_temp' is not defined"
     ]
    }
   ],
   "source": [
    "y_pred = ln_reg_temp.predict(X_test)"
   ]
  },
  {
   "cell_type": "code",
   "execution_count": null,
   "metadata": {},
   "outputs": [],
   "source": [
    "print('R^2: {}'.format(ln_reg_all.score(X_test, y_test)))\n",
    "print('rmse: {}'.format(np.sqrt(mean_squared_error(y_pred, y_test))))"
   ]
  },
  {
   "cell_type": "code",
   "execution_count": null,
   "metadata": {},
   "outputs": [],
   "source": [
    "y = df['Life expectancy '].values\n",
    "X_all = df.drop(['Life expectancy '], axis=1).values"
   ]
  },
  {
   "cell_type": "code",
   "execution_count": null,
   "metadata": {},
   "outputs": [],
   "source": [
    "X_train, X_test, y_train, y_test = train_test_split(X_all, y, test_size=0.3, random_state=42)"
   ]
  },
  {
   "cell_type": "code",
   "execution_count": null,
   "metadata": {},
   "outputs": [],
   "source": [
    "cv_reg = LinearRegression()"
   ]
  },
  {
   "cell_type": "code",
   "execution_count": null,
   "metadata": {},
   "outputs": [],
   "source": [
    "cv_list = np.array([3,4,5,6,7,8,9])\n",
    "\n",
    "for cv in cv_list:\n",
    "    cv_scores = cross_val_score(cv_reg, X_all, y, cv=cv)\n",
    "    print(cv_scores)\n",
    "    print('Average ' + str(cv) + '-Fold CV Score is: {}'.format(np.mean(cv_scores)))\n",
    "    print()"
   ]
  },
  {
   "cell_type": "code",
   "execution_count": null,
   "metadata": {},
   "outputs": [],
   "source": [
    "y = df['Life expectancy '].values\n",
    "X_all = df.drop(['Life expectancy '], axis=1).values"
   ]
  },
  {
   "cell_type": "code",
   "execution_count": null,
   "metadata": {},
   "outputs": [],
   "source": [
    "reg_lasso = Lasso(alpha=0.4, normalize=True)"
   ]
  },
  {
   "cell_type": "code",
   "execution_count": null,
   "metadata": {},
   "outputs": [],
   "source": [
    "reg_lasso.fit(X_all, y)"
   ]
  },
  {
   "cell_type": "code",
   "execution_count": null,
   "metadata": {},
   "outputs": [],
   "source": [
    "lasso_coef = reg_lasso.fit(X_all, y).coef_\n",
    "print(lasso_coef)"
   ]
  },
  {
   "cell_type": "code",
   "execution_count": null,
   "metadata": {},
   "outputs": [],
   "source": [
    "df_columns = ['Adult Mortality',\n",
    "       'infant deaths', 'Alcohol', 'percentage expenditure', 'Hepatitis B',\n",
    "       'Measles ', ' BMI ', 'under-five deaths ', 'Polio', 'Total expenditure',\n",
    "       'Diphtheria ', ' HIV/AIDS', 'GDP', 'Population',\n",
    "       ' thinness  1-19 years', ' thinness 5-9 years',\n",
    "       'Income composition of resources', 'Schooling']"
   ]
  },
  {
   "cell_type": "code",
   "execution_count": null,
   "metadata": {},
   "outputs": [],
   "source": [
    "plt.figure(figsize=(19,8))\n",
    "plt.plot(range(len(df_columns)), lasso_coef)\n",
    "\n",
    "plt.xticks(range(len(df_columns)), df_columns, rotation=60)\n",
    "plt.margins(0.1)\n",
    "plt.show()"
   ]
  },
  {
   "cell_type": "code",
   "execution_count": 109,
   "metadata": {},
   "outputs": [
    {
     "name": "stdout",
     "output_type": "stream",
     "text": [
      "Life expectancy \n",
      "Adult Mortality\n",
      "infant deaths\n",
      "Alcohol\n",
      "percentage expenditure\n",
      "Hepatitis B\n",
      "Measles \n",
      " BMI \n",
      "under-five deaths \n",
      "Polio\n",
      "Total expenditure\n",
      "Diphtheria \n",
      " HIV/AIDS\n",
      "GDP\n",
      "Population\n",
      " thinness  1-19 years\n",
      " thinness 5-9 years\n",
      "Income composition of resources\n",
      "Schooling\n"
     ]
    }
   ],
   "source": [
    "for col in df.columns:\n",
    "    print(col)"
   ]
  },
  {
   "cell_type": "code",
   "execution_count": 90,
   "metadata": {},
   "outputs": [],
   "source": [
    "\n",
    "y = df[['Life expectancy ']].values\n",
    "X_am = df[['Adult Mortality']].values"
   ]
  },
  {
   "cell_type": "code",
   "execution_count": 91,
   "metadata": {},
   "outputs": [
    {
     "data": {
      "image/png": "[encoded data removed]",
      "text/plain": [
       "<Figure size 1440x1800 with 1 Axes>"
      ]
     },
     "metadata": {
      "needs_background": "light"
     },
     "output_type": "display_data"
    }
   ],
   "source": [
    "plt.figure(figsize=(20,25))\n",
    "plt.scatter(X_am, y)\n",
    "\n",
    "plt.xlabel('Adult Mortality')\n",
    "plt.ylabel('Life Expectancy')\n",
    "plt.show()"
   ]
  },
  {
   "cell_type": "code",
   "execution_count": 92,
   "metadata": {},
   "outputs": [],
   "source": [
    "import numpy as np\n",
    "import pandas as pd\n",
    "from sklearn.linear_model import LinearRegression\n",
    "import matplotlib.pyplot as plt\n",
    "%matplotlib inline"
   ]
  },
  {
   "cell_type": "code",
   "execution_count": 93,
   "metadata": {},
   "outputs": [
    {
     "data": {
      "text/plain": [
       "array([[65. ],\n",
       "       [59.9],\n",
       "       [59.9],\n",
       "       ...,\n",
       "       [44.8],\n",
       "       [45.3],\n",
       "       [46. ]])"
      ]
     },
     "execution_count": 93,
     "metadata": {},
     "output_type": "execute_result"
    }
   ],
   "source": [
    "X_am.reshape(-1,1)\n",
    "y.reshape(-1,1)"
   ]
  },
  {
   "cell_type": "code",
   "execution_count": 94,
   "metadata": {},
   "outputs": [
    {
     "data": {
      "text/plain": [
       "LinearRegression()"
      ]
     },
     "execution_count": 94,
     "metadata": {},
     "output_type": "execute_result"
    }
   ],
   "source": [
    "model = LinearRegression()\n",
    "model.fit(X_am,y)"
   ]
  },
  {
   "cell_type": "code",
   "execution_count": 95,
   "metadata": {},
   "outputs": [
    {
     "data": {
      "text/plain": [
       "LinearRegression()"
      ]
     },
     "execution_count": 95,
     "metadata": {},
     "output_type": "execute_result"
    }
   ],
   "source": [
    "model.fit(X_am,y)"
   ]
  },
  {
   "cell_type": "code",
   "execution_count": 96,
   "metadata": {},
   "outputs": [
    {
     "data": {
      "text/plain": [
       "Text(0, 0.5, 'Life Expectancy')"
      ]
     },
     "execution_count": 96,
     "metadata": {},
     "output_type": "execute_result"
    },
    {
     "data": {
      "image/png": "[encoded data removed]",
      "text/plain": [
       "<Figure size 432x288 with 1 Axes>"
      ]
     },
     "metadata": {
      "needs_background": "light"
     },
     "output_type": "display_data"
    }
   ],
   "source": [
    "plt.scatter(X_am,y)\n",
    "plt.xlabel(\"Adult Mortality\")\n",
    "plt.ylabel(\"Life Expectancy\")"
   ]
  },
  {
   "cell_type": "code",
   "execution_count": 107,
   "metadata": {},
   "outputs": [
    {
     "name": "stdout",
     "output_type": "stream",
     "text": [
      "[[72.61718464]]\n"
     ]
    }
   ],
   "source": [
    "x_test = np.array([[101]])\n",
    "y_pred = model.predict(x_test)\n",
    "print(y_pred)"
   ]
  },
  {
   "cell_type": "code",
   "execution_count": 110,
   "metadata": {},
   "outputs": [],
   "source": [
    "\n",
    "y = df[['Life expectancy ']].values\n",
    "X_bmi = df[[' BMI ']].values"
   ]
  },
  {
   "cell_type": "code",
   "execution_count": 122,
   "metadata": {},
   "outputs": [
    {
     "data": {
      "image/png": "[encoded data removed]",
      "text/plain": [
       "<Figure size 720x720 with 1 Axes>"
      ]
     },
     "metadata": {
      "needs_background": "light"
     },
     "output_type": "display_data"
    }
   ],
   "source": [
    "plt.figure(figsize=(10 ,10))\n",
    "plt.scatter(X_bmi, y)\n",
    "plt.xlabel('BMI')\n",
    "plt.ylabel('Life Expectancy')\n",
    "plt.show()"
   ]
  },
  {
   "cell_type": "code",
   "execution_count": null,
   "metadata": {},
   "outputs": [],
   "source": []
  },
  {
   "cell_type": "markdown",
   "metadata": {},
   "source": []
  },
  {
   "cell_type": "code",
   "execution_count": 113,
   "metadata": {},
   "outputs": [
    {
     "data": {
      "text/plain": [
       "array([[65. ],\n",
       "       [59.9],\n",
       "       [59.9],\n",
       "       ...,\n",
       "       [44.8],\n",
       "       [45.3],\n",
       "       [46. ]])"
      ]
     },
     "execution_count": 113,
     "metadata": {},
     "output_type": "execute_result"
    }
   ],
   "source": [
    "X_bmi.reshape(-1,1)\n",
    "y.reshape(-1,1)"
   ]
  },
  {
   "cell_type": "code",
   "execution_count": 115,
   "metadata": {},
   "outputs": [
    {
     "data": {
      "text/plain": [
       "LinearRegression()"
      ]
     },
     "execution_count": 115,
     "metadata": {},
     "output_type": "execute_result"
    }
   ],
   "source": [
    "model1 = LinearRegression()\n",
    "model1.fit(X_bmi,y)"
   ]
  },
  {
   "cell_type": "code",
   "execution_count": 116,
   "metadata": {},
   "outputs": [
    {
     "data": {
      "text/plain": [
       "LinearRegression()"
      ]
     },
     "execution_count": 116,
     "metadata": {},
     "output_type": "execute_result"
    }
   ],
   "source": [
    "model1.fit(X_bmi,y)"
   ]
  },
  {
   "cell_type": "code",
   "execution_count": 126,
   "metadata": {},
   "outputs": [
    {
     "data": {
      "image/png": "[encoded data removed]",
      "text/plain": [
       "<Figure size 432x288 with 1 Axes>"
      ]
     },
     "metadata": {
      "needs_background": "light"
     },
     "output_type": "display_data"
    }
   ],
   "source": [
    "plt.scatter(X_bmi, y)\n",
    "plt.xlabel(\"BMI\")\n",
    "plt.ylabel(\"Life Expectancy\")\n",
    "plt.plot(X_bmi, model.predict(X_bmi), color='red', linewidth=1)\n",
    "plt.show()"
   ]
  },
  {
   "cell_type": "code",
   "execution_count": 130,
   "metadata": {},
   "outputs": [
    {
     "name": "stdout",
     "output_type": "stream",
     "text": [
      "[[65.40920244]]\n"
     ]
    }
   ],
   "source": [
    "x_test = np.array([[22]])\n",
    "y_pred = model1.predict(x_test)\n",
    "print(y_pred)\n"
   ]
  },
  {
   "cell_type": "code",
   "execution_count": 131,
   "metadata": {},
   "outputs": [],
   "source": [
    "\n",
    "y = df[['Life expectancy ']].values\n",
    "X_alcohol= df[['Alcohol']].values"
   ]
  },
  {
   "cell_type": "code",
   "execution_count": 135,
   "metadata": {},
   "outputs": [
    {
     "data": {
      "image/png": "[encoded data removed]",
      "text/plain": [
       "<Figure size 1440x1800 with 1 Axes>"
      ]
     },
     "metadata": {
      "needs_background": "light"
     },
     "output_type": "display_data"
    }
   ],
   "source": [
    "plt.figure(figsize=(20, 25))\n",
    "plt.scatter(X_alcohol, y)\n",
    "plt.xlabel('Alcohol;')\n",
    "plt.ylabel('Life Expectancy')\n",
    "plt.show()"
   ]
  },
  {
   "cell_type": "code",
   "execution_count": 136,
   "metadata": {},
   "outputs": [
    {
     "data": {
      "image/png": "[encoded data removed]",
      "text/plain": [
       "<Figure size 432x288 with 1 Axes>"
      ]
     },
     "metadata": {
      "needs_background": "light"
     },
     "output_type": "display_data"
    }
   ],
   "source": [
    "\n",
    "plt.scatter(X_alcohol, y)\n",
    "plt.xlabel(\"Alcohol \")\n",
    "plt.ylabel(\"Life Expectancy\")\n",
    "plt.plot(X_bmi, model.predict(X_alcohol), color='red', linewidth=1)\n",
    "plt.show()"
   ]
  },
  {
   "cell_type": "code",
   "execution_count": 137,
   "metadata": {},
   "outputs": [
    {
     "data": {
      "text/plain": [
       "array([[65. ],\n",
       "       [59.9],\n",
       "       [59.9],\n",
       "       ...,\n",
       "       [44.8],\n",
       "       [45.3],\n",
       "       [46. ]])"
      ]
     },
     "execution_count": 137,
     "metadata": {},
     "output_type": "execute_result"
    }
   ],
   "source": [
    "X_alcohol.reshape(-1,1)\n",
    "y.reshape(-1,1)"
   ]
  },
  {
   "cell_type": "code",
   "execution_count": 138,
   "metadata": {},
   "outputs": [
    {
     "data": {
      "text/plain": [
       "LinearRegression()"
      ]
     },
     "execution_count": 138,
     "metadata": {},
     "output_type": "execute_result"
    }
   ],
   "source": [
    "model2 = LinearRegression()\n",
    "model2.fit(X_alcohol,y)"
   ]
  },
  {
   "cell_type": "code",
   "execution_count": 139,
   "metadata": {},
   "outputs": [
    {
     "data": {
      "text/plain": [
       "LinearRegression()"
      ]
     },
     "execution_count": 139,
     "metadata": {},
     "output_type": "execute_result"
    }
   ],
   "source": [
    "model2.fit(X_alcohol,y)"
   ]
  },
  {
   "cell_type": "code",
   "execution_count": 140,
   "metadata": {},
   "outputs": [
    {
     "data": {
      "text/plain": [
       "Text(0, 0.5, 'Life Expectancy')"
      ]
     },
     "execution_count": 140,
     "metadata": {},
     "output_type": "execute_result"
    },
    {
     "data": {
      "image/png": "[encoded data removed]",
      "text/plain": [
       "<Figure size 432x288 with 1 Axes>"
      ]
     },
     "metadata": {
      "needs_background": "light"
     },
     "output_type": "display_data"
    }
   ],
   "source": [
    "plt.scatter(X_alcohol, y)\n",
    "plt.xlabel(\"Alcohol\")\n",
    "plt.ylabel(\"Life Expectancy\")"
   ]
  },
  {
   "cell_type": "code",
   "execution_count": 145,
   "metadata": {},
   "outputs": [
    {
     "name": "stdout",
     "output_type": "stream",
     "text": [
      "[[71.91085359]]\n"
     ]
    }
   ],
   "source": [
    "x_test = np.array([[7.5]])\n",
    "y_pred = model2.predict(x_test)\n",
    "print(y_pred)\n"
   ]
  },
  {
   "cell_type": "code",
   "execution_count": null,
   "metadata": {},
   "outputs": [],
   "source": []
  }
 ],
 "metadata": {
  "kernelspec": {
   "display_name": "Python 3 (ipykernel)",
   "language": "python",
   "name": "python3"
  },
  "language_info": {
   "codemirror_mode": {
    "name": "ipython",
    "version": 3
   },
   "file_extension": ".py",
   "mimetype": "text/x-python",
   "name": "python",
   "nbconvert_exporter": "python",
   "pygments_lexer": "ipython3",
   "version": "3.9.7"
  },
  "vscode": {
   "interpreter": {
    "hash": "76d7c06053c3456e5600312cec90888656fc0ed30c03d8425b9dac6e4fc8e014"
   }
  }
 },
 "nbformat": 4,
 "nbformat_minor": 4
}
